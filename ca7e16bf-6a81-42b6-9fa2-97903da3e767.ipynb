{
 "cells": [
  {
   "cell_type": "markdown",
   "metadata": {
    "id": "E0vqbgi9ay0H"
   },
   "source": [
    "#  Музыка больших городов"
   ]
  },
  {
   "cell_type": "markdown",
   "metadata": {
    "id": "VUC88oWjTJw2"
   },
   "source": [
    "О жизни в Москве и Санкт-Петербурге придумано много мифов, таких как:\n",
    "\n",
    "•\tМосква — мегаполис, подчинённый жёсткому ритму рабочей недели;\n",
    "\n",
    "•\tПетербург — город своеобразной культуры, непохожий на Москву.\n",
    "\n",
    "Но для принятия рациональных решений бизнесу необходимо отличать стереотипы от действительности.\n",
    "Сравним музыкальное поведение пользователей двух столиц на реальных данных Яндекс.Музыки. \n",
    "\n",
    "\n",
    "**Исходные данные:** данные пользователей Яндекс.Музыки для Москвы и Санкт-Петербурга\n",
    "\n",
    "**Цель исследования:** сравнение поведения пользователей двух столиц\n",
    "\n",
    "**Задачи исследования:** проверить следующие гипотезы:\n",
    "\n",
    "1. Активность пользователей зависит от дня недели. Причём в Москве и Петербурге это проявляется по-разному.\n",
    "2. В понедельник утром в Москве преобладают одни жанры, а в Петербурге — другие. Так же и вечером пятницы преобладают разные жанры — в зависимости от города. \n",
    "3. Москва и Петербург предпочитают разные жанры музыки. В Москве чаще слушают поп-музыку, в Петербурге — русский рэп.\n"
   ]
  },
  {
   "cell_type": "markdown",
   "metadata": {
    "id": "Ml1hmfXC_Zcs"
   },
   "source": [
    "## 1 Обзор данных"
   ]
  },
  {
   "cell_type": "code",
   "execution_count": 1,
   "metadata": {
    "id": "AXN7PHPN_Zcs"
   },
   "outputs": [],
   "source": [
    "# импорт библиотек\n",
    "import pandas as pd"
   ]
  },
  {
   "cell_type": "markdown",
   "metadata": {},
   "source": [
    "Составим первое представление об имеющихся данных Яндекс.Музыки. Выведем на экран первые десять строк таблицы:"
   ]
  },
  {
   "cell_type": "code",
   "execution_count": 2,
   "metadata": {
    "id": "fFVu7vqh_Zct"
   },
   "outputs": [
    {
     "data": {
      "text/html": [
       "<div>\n",
       "<style scoped>\n",
       "    .dataframe tbody tr th:only-of-type {\n",
       "        vertical-align: middle;\n",
       "    }\n",
       "\n",
       "    .dataframe tbody tr th {\n",
       "        vertical-align: top;\n",
       "    }\n",
       "\n",
       "    .dataframe thead th {\n",
       "        text-align: right;\n",
       "    }\n",
       "</style>\n",
       "<table border=\"1\" class=\"dataframe\">\n",
       "  <thead>\n",
       "    <tr style=\"text-align: right;\">\n",
       "      <th></th>\n",
       "      <th>userID</th>\n",
       "      <th>Track</th>\n",
       "      <th>artist</th>\n",
       "      <th>genre</th>\n",
       "      <th>City</th>\n",
       "      <th>time</th>\n",
       "      <th>Day</th>\n",
       "    </tr>\n",
       "  </thead>\n",
       "  <tbody>\n",
       "    <tr>\n",
       "      <th>0</th>\n",
       "      <td>FFB692EC</td>\n",
       "      <td>Kamigata To Boots</td>\n",
       "      <td>The Mass Missile</td>\n",
       "      <td>rock</td>\n",
       "      <td>Saint-Petersburg</td>\n",
       "      <td>20:28:33</td>\n",
       "      <td>Wednesday</td>\n",
       "    </tr>\n",
       "    <tr>\n",
       "      <th>1</th>\n",
       "      <td>55204538</td>\n",
       "      <td>Delayed Because of Accident</td>\n",
       "      <td>Andreas Rönnberg</td>\n",
       "      <td>rock</td>\n",
       "      <td>Moscow</td>\n",
       "      <td>14:07:09</td>\n",
       "      <td>Friday</td>\n",
       "    </tr>\n",
       "    <tr>\n",
       "      <th>2</th>\n",
       "      <td>20EC38</td>\n",
       "      <td>Funiculì funiculà</td>\n",
       "      <td>Mario Lanza</td>\n",
       "      <td>pop</td>\n",
       "      <td>Saint-Petersburg</td>\n",
       "      <td>20:58:07</td>\n",
       "      <td>Wednesday</td>\n",
       "    </tr>\n",
       "    <tr>\n",
       "      <th>3</th>\n",
       "      <td>A3DD03C9</td>\n",
       "      <td>Dragons in the Sunset</td>\n",
       "      <td>Fire + Ice</td>\n",
       "      <td>folk</td>\n",
       "      <td>Saint-Petersburg</td>\n",
       "      <td>08:37:09</td>\n",
       "      <td>Monday</td>\n",
       "    </tr>\n",
       "    <tr>\n",
       "      <th>4</th>\n",
       "      <td>E2DC1FAE</td>\n",
       "      <td>Soul People</td>\n",
       "      <td>Space Echo</td>\n",
       "      <td>dance</td>\n",
       "      <td>Moscow</td>\n",
       "      <td>08:34:34</td>\n",
       "      <td>Monday</td>\n",
       "    </tr>\n",
       "    <tr>\n",
       "      <th>5</th>\n",
       "      <td>842029A1</td>\n",
       "      <td>Преданная</td>\n",
       "      <td>IMPERVTOR</td>\n",
       "      <td>rusrap</td>\n",
       "      <td>Saint-Petersburg</td>\n",
       "      <td>13:09:41</td>\n",
       "      <td>Friday</td>\n",
       "    </tr>\n",
       "    <tr>\n",
       "      <th>6</th>\n",
       "      <td>4CB90AA5</td>\n",
       "      <td>True</td>\n",
       "      <td>Roman Messer</td>\n",
       "      <td>dance</td>\n",
       "      <td>Moscow</td>\n",
       "      <td>13:00:07</td>\n",
       "      <td>Wednesday</td>\n",
       "    </tr>\n",
       "    <tr>\n",
       "      <th>7</th>\n",
       "      <td>F03E1C1F</td>\n",
       "      <td>Feeling This Way</td>\n",
       "      <td>Polina Griffith</td>\n",
       "      <td>dance</td>\n",
       "      <td>Moscow</td>\n",
       "      <td>20:47:49</td>\n",
       "      <td>Wednesday</td>\n",
       "    </tr>\n",
       "    <tr>\n",
       "      <th>8</th>\n",
       "      <td>8FA1D3BE</td>\n",
       "      <td>И вновь продолжается бой</td>\n",
       "      <td>NaN</td>\n",
       "      <td>ruspop</td>\n",
       "      <td>Moscow</td>\n",
       "      <td>09:17:40</td>\n",
       "      <td>Friday</td>\n",
       "    </tr>\n",
       "    <tr>\n",
       "      <th>9</th>\n",
       "      <td>E772D5C0</td>\n",
       "      <td>Pessimist</td>\n",
       "      <td>NaN</td>\n",
       "      <td>dance</td>\n",
       "      <td>Saint-Petersburg</td>\n",
       "      <td>21:20:49</td>\n",
       "      <td>Wednesday</td>\n",
       "    </tr>\n",
       "  </tbody>\n",
       "</table>\n",
       "</div>"
      ],
      "text/plain": [
       "     userID                        Track            artist   genre  \\\n",
       "0  FFB692EC            Kamigata To Boots  The Mass Missile    rock   \n",
       "1  55204538  Delayed Because of Accident  Andreas Rönnberg    rock   \n",
       "2    20EC38            Funiculì funiculà       Mario Lanza     pop   \n",
       "3  A3DD03C9        Dragons in the Sunset        Fire + Ice    folk   \n",
       "4  E2DC1FAE                  Soul People        Space Echo   dance   \n",
       "5  842029A1                    Преданная         IMPERVTOR  rusrap   \n",
       "6  4CB90AA5                         True      Roman Messer   dance   \n",
       "7  F03E1C1F             Feeling This Way   Polina Griffith   dance   \n",
       "8  8FA1D3BE     И вновь продолжается бой               NaN  ruspop   \n",
       "9  E772D5C0                    Pessimist               NaN   dance   \n",
       "\n",
       "             City        time        Day  \n",
       "0  Saint-Petersburg  20:28:33  Wednesday  \n",
       "1            Moscow  14:07:09     Friday  \n",
       "2  Saint-Petersburg  20:58:07  Wednesday  \n",
       "3  Saint-Petersburg  08:37:09     Monday  \n",
       "4            Moscow  08:34:34     Monday  \n",
       "5  Saint-Petersburg  13:09:41     Friday  \n",
       "6            Moscow  13:00:07  Wednesday  \n",
       "7            Moscow  20:47:49  Wednesday  \n",
       "8            Moscow  09:17:40     Friday  \n",
       "9  Saint-Petersburg  21:20:49  Wednesday  "
      ]
     },
     "execution_count": 2,
     "metadata": {},
     "output_type": "execute_result"
    }
   ],
   "source": [
    "# чтение файла с данными и сохранение в df\n",
    "df = pd.read_csv('/Users/olgakozlova/Desktop/Практикум/В портфолио/1 Музыка больших городов - не готово/yandex_music_project.csv')\n",
    "\n",
    "# вывод первых 10-и строк\n",
    "df.head(10)"
   ]
  },
  {
   "cell_type": "markdown",
   "metadata": {
    "id": "EO73Kwic_Zct"
   },
   "source": [
    "Изучим общую информацию о датасете:"
   ]
  },
  {
   "cell_type": "code",
   "execution_count": 3,
   "metadata": {
    "id": "DSf2kIb-_Zct",
    "scrolled": true
   },
   "outputs": [
    {
     "name": "stdout",
     "output_type": "stream",
     "text": [
      "<class 'pandas.core.frame.DataFrame'>\n",
      "RangeIndex: 65079 entries, 0 to 65078\n",
      "Data columns (total 7 columns):\n",
      " #   Column    Non-Null Count  Dtype \n",
      "---  ------    --------------  ----- \n",
      " 0     userID  65079 non-null  object\n",
      " 1   Track     63848 non-null  object\n",
      " 2   artist    57876 non-null  object\n",
      " 3   genre     63881 non-null  object\n",
      " 4     City    65079 non-null  object\n",
      " 5   time      65079 non-null  object\n",
      " 6   Day       65079 non-null  object\n",
      "dtypes: object(7)\n",
      "memory usage: 3.5+ MB\n"
     ]
    }
   ],
   "source": [
    "# получение общей информации о данных\n",
    "df.info()"
   ]
  },
  {
   "cell_type": "markdown",
   "metadata": {
    "id": "TaQ2Iwbr_Zct"
   },
   "source": [
    "Итак, в таблице семь столбцов. Тип данных во всех столбцах — `object`.\n",
    "\n",
    "Согласно документации к данным:\n",
    "* `userID` — идентификатор пользователя;\n",
    "* `Track` — название трека;  \n",
    "* `artist` — имя исполнителя;\n",
    "* `genre` — название жанра;\n",
    "* `City` — город пользователя;\n",
    "* `time` — время начала прослушивания;\n",
    "* `Day` — день недели.\n",
    "\n",
    "В названиях колонок видны следующие нарушения стиля:\n",
    "1. Строчные буквы сочетаются с прописными;\n",
    "2. Встречаются пробелы;\n",
    "3. Присутствие CamelCase.\n",
    "\n",
    "Количество значений в столбцах различается, что говорит нам о наличии в данных пропусков.\n"
   ]
  },
  {
   "cell_type": "markdown",
   "metadata": {
    "id": "MCB6-dXG_Zct"
   },
   "source": [
    "### 1.1 Выводы\n",
    "\n",
    "Каждая строка датасета содержит подробную информация о прослушанном треке. Часть колонок описывает саму композицию: название, исполнителя и жанр. Остальные данные рассказывают о пользователе: из какого он города, когда он слушал музыку. \n",
    "\n",
    "Предварительно можно утверждать, что данных для проверки гипотез достаточно. Но встречаются пропуски в данных, а в названиях колонок — расхождения с хорошим стилем.\n",
    "\n",
    "Необходимо устранить проблемы в данных: избавиться от пропущенных значений и привести данные к змеиному регистру."
   ]
  },
  {
   "cell_type": "markdown",
   "metadata": {
    "id": "SjYF6Ub9_Zct"
   },
   "source": [
    "## 2 Предобработка данных\n",
    "\n",
    "Исправим стиль в заголовках столбцов, исключим пропуски, проверим данные на дубликаты."
   ]
  },
  {
   "cell_type": "markdown",
   "metadata": {
    "id": "dIaKXr29_Zct"
   },
   "source": [
    "### 2.1 Стиль заголовков"
   ]
  },
  {
   "cell_type": "code",
   "execution_count": 4,
   "metadata": {
    "id": "oKOTdF_Q_Zct"
   },
   "outputs": [
    {
     "data": {
      "text/plain": [
       "Index(['  userID', 'Track', 'artist', 'genre', '  City  ', 'time', 'Day'], dtype='object')"
      ]
     },
     "execution_count": 4,
     "metadata": {},
     "output_type": "execute_result"
    }
   ],
   "source": [
    "# перечень названий столбцов\n",
    "df.columns"
   ]
  },
  {
   "cell_type": "markdown",
   "metadata": {
    "id": "zj5534cv_Zct"
   },
   "source": [
    "Приведем названия в соответствие с хорошим стилем:\n",
    "* воспользуемся snake_case;\n",
    "* все символы сделаем строчными;\n",
    "* устраним пробелы."
   ]
  },
  {
   "cell_type": "code",
   "execution_count": 5,
   "metadata": {
    "id": "ISlFqs5y_Zct"
   },
   "outputs": [
    {
     "data": {
      "text/plain": [
       "['user_id', 'track', 'artist', 'genre', 'city', 'time', 'day']"
      ]
     },
     "execution_count": 5,
     "metadata": {},
     "output_type": "execute_result"
    }
   ],
   "source": [
    "# переименование столбцов\n",
    "df = df.rename(columns={'  userID': 'user_id', 'Track': 'track', '  City  ': 'city', 'Day': 'day'})\n",
    "\n",
    "# проверка результатов - список названий столбцов\n",
    "df.columns.to_list()"
   ]
  },
  {
   "cell_type": "markdown",
   "metadata": {
    "id": "5ISfbcfY_Zct"
   },
   "source": [
    "### 2.2 Пропуски значений\n",
    "Сначала посчитаем, сколько пропущенных значений содержат данные."
   ]
  },
  {
   "cell_type": "code",
   "execution_count": 6,
   "metadata": {
    "id": "RskX29qr_Zct"
   },
   "outputs": [
    {
     "data": {
      "text/plain": [
       "user_id       0\n",
       "track      1231\n",
       "artist     7203\n",
       "genre      1198\n",
       "city          0\n",
       "time          0\n",
       "day           0\n",
       "dtype: int64"
      ]
     },
     "execution_count": 6,
     "metadata": {},
     "output_type": "execute_result"
    }
   ],
   "source": [
    "# подсчёт пропусков\n",
    "df.isna().sum()"
   ]
  },
  {
   "cell_type": "markdown",
   "metadata": {
    "id": "qubhgnlO_Zct"
   },
   "source": [
    "Не все пропущенные значения влияют на исследование. Пропуски в столцах `track` и `artist` не важны, достаточно заменить их явными обозначениями.\n",
    "\n",
    "Но пропуски в столбце `genre` могут помешать сравнению музыкальных вкусов в Москве и Санкт-Петербурге. В учебном проекте нет возможности установить причину пропусков и восстановить данные, поэтому остается:\n",
    "\n",
    "* так же заполнить пропуски явными обозначениями;\n",
    "* оценить, насколько они повредят расчётам. "
   ]
  },
  {
   "cell_type": "code",
   "execution_count": 7,
   "metadata": {
    "id": "KplB5qWs_Zct"
   },
   "outputs": [],
   "source": [
    "# замена пропущенных значений на 'unknown'\n",
    "df = df.fillna('unknown')"
   ]
  },
  {
   "cell_type": "markdown",
   "metadata": {
    "id": "Ilsm-MZo_Zct"
   },
   "source": [
    "Убедимся, что в таблице не осталось пропусков."
   ]
  },
  {
   "cell_type": "code",
   "execution_count": 8,
   "metadata": {
    "id": "Tq4nYRX4_Zct"
   },
   "outputs": [
    {
     "data": {
      "text/plain": [
       "user_id    0\n",
       "track      0\n",
       "artist     0\n",
       "genre      0\n",
       "city       0\n",
       "time       0\n",
       "day        0\n",
       "dtype: int64"
      ]
     },
     "execution_count": 8,
     "metadata": {},
     "output_type": "execute_result"
    }
   ],
   "source": [
    "# подсчёт пропусков\n",
    "df.isna().sum()"
   ]
  },
  {
   "cell_type": "markdown",
   "metadata": {
    "id": "BWKRtBJ3_Zct"
   },
   "source": [
    "### 2.3 Дубликаты\n",
    "Посчитаем и удалим явные дубликаты в таблице."
   ]
  },
  {
   "cell_type": "code",
   "execution_count": 9,
   "metadata": {
    "id": "36eES_S0_Zct"
   },
   "outputs": [
    {
     "data": {
      "text/plain": [
       "3826"
      ]
     },
     "execution_count": 9,
     "metadata": {},
     "output_type": "execute_result"
    }
   ],
   "source": [
    "# подсчёт явных дубликатов\n",
    "df.duplicated().sum()"
   ]
  },
  {
   "cell_type": "code",
   "execution_count": 10,
   "metadata": {
    "id": "exFHq6tt_Zct"
   },
   "outputs": [],
   "source": [
    "# удаление явных дубликатов (с удалением старых индексов и формированием новых)\n",
    "df = df.drop_duplicates().reset_index(drop=True)"
   ]
  },
  {
   "cell_type": "markdown",
   "metadata": {
    "id": "Im2YwBEG_Zct"
   },
   "source": [
    "Убедимся, что полностью избавились от дубликатов:"
   ]
  },
  {
   "cell_type": "code",
   "execution_count": 11,
   "metadata": {
    "id": "-8PuNWQ0_Zct"
   },
   "outputs": [
    {
     "data": {
      "text/plain": [
       "0"
      ]
     },
     "execution_count": 11,
     "metadata": {},
     "output_type": "execute_result"
    }
   ],
   "source": [
    "# проверка на отсутствие явных дубликатов\n",
    "df.duplicated().sum()"
   ]
  },
  {
   "cell_type": "markdown",
   "metadata": {
    "id": "QlFBsxAr_Zct"
   },
   "source": [
    "Название одного и того же жанра может быть записано немного по-разному. Такие ошибки повлияют на результат исследования. Избавимся от неявных дубликатов в колонке `genre`. Выведем на экран список уникальных названий жанров, отсортированный в алфавитном порядке."
   ]
  },
  {
   "cell_type": "code",
   "execution_count": 12,
   "metadata": {
    "id": "JIUcqzZN_Zct"
   },
   "outputs": [
    {
     "data": {
      "text/plain": [
       "array(['acid', 'acoustic', 'action', 'adult', 'africa', 'afrikaans',\n",
       "       'alternative', 'alternativepunk', 'ambient', 'americana',\n",
       "       'animated', 'anime', 'arabesk', 'arabic', 'arena',\n",
       "       'argentinetango', 'art', 'audiobook', 'author', 'avantgarde',\n",
       "       'axé', 'baile', 'balkan', 'beats', 'bigroom', 'black', 'bluegrass',\n",
       "       'blues', 'bollywood', 'bossa', 'brazilian', 'breakbeat', 'breaks',\n",
       "       'broadway', 'cantautori', 'cantopop', 'canzone', 'caribbean',\n",
       "       'caucasian', 'celtic', 'chamber', 'chanson', 'children', 'chill',\n",
       "       'chinese', 'choral', 'christian', 'christmas', 'classical',\n",
       "       'classicmetal', 'club', 'colombian', 'comedy', 'conjazz',\n",
       "       'contemporary', 'country', 'cuban', 'dance', 'dancehall',\n",
       "       'dancepop', 'dark', 'death', 'deep', 'deutschrock', 'deutschspr',\n",
       "       'dirty', 'disco', 'dnb', 'documentary', 'downbeat', 'downtempo',\n",
       "       'drum', 'dub', 'dubstep', 'eastern', 'easy', 'electronic',\n",
       "       'electropop', 'emo', 'entehno', 'epicmetal', 'estrada', 'ethnic',\n",
       "       'eurofolk', 'european', 'experimental', 'extrememetal', 'fado',\n",
       "       'fairytail', 'film', 'fitness', 'flamenco', 'folk', 'folklore',\n",
       "       'folkmetal', 'folkrock', 'folktronica', 'forró', 'frankreich',\n",
       "       'französisch', 'french', 'funk', 'future', 'gangsta', 'garage',\n",
       "       'german', 'ghazal', 'gitarre', 'glitch', 'gospel', 'gothic',\n",
       "       'grime', 'grunge', 'gypsy', 'handsup', \"hard'n'heavy\", 'hardcore',\n",
       "       'hardstyle', 'hardtechno', 'hip', 'hip-hop', 'hiphop',\n",
       "       'historisch', 'holiday', 'hop', 'horror', 'house', 'hymn', 'idm',\n",
       "       'independent', 'indian', 'indie', 'indipop', 'industrial',\n",
       "       'inspirational', 'instrumental', 'international', 'irish', 'jam',\n",
       "       'japanese', 'jazz', 'jewish', 'jpop', 'jungle', 'k-pop',\n",
       "       'karadeniz', 'karaoke', 'kayokyoku', 'korean', 'laiko', 'latin',\n",
       "       'latino', 'leftfield', 'local', 'lounge', 'loungeelectronic',\n",
       "       'lovers', 'malaysian', 'mandopop', 'marschmusik', 'meditative',\n",
       "       'mediterranean', 'melodic', 'metal', 'metalcore', 'mexican',\n",
       "       'middle', 'minimal', 'miscellaneous', 'modern', 'mood', 'mpb',\n",
       "       'muslim', 'native', 'neoklassik', 'neue', 'new', 'newage',\n",
       "       'newwave', 'nu', 'nujazz', 'numetal', 'oceania', 'old', 'opera',\n",
       "       'orchestral', 'other', 'piano', 'podcasts', 'pop', 'popdance',\n",
       "       'popelectronic', 'popeurodance', 'poprussian', 'post',\n",
       "       'posthardcore', 'postrock', 'power', 'progmetal', 'progressive',\n",
       "       'psychedelic', 'punjabi', 'punk', 'quebecois', 'ragga', 'ram',\n",
       "       'rancheras', 'rap', 'rave', 'reggae', 'reggaeton', 'regional',\n",
       "       'relax', 'religious', 'retro', 'rhythm', 'rnb', 'rnr', 'rock',\n",
       "       'rockabilly', 'rockalternative', 'rockindie', 'rockother',\n",
       "       'romance', 'roots', 'ruspop', 'rusrap', 'rusrock', 'russian',\n",
       "       'salsa', 'samba', 'scenic', 'schlager', 'self', 'sertanejo',\n",
       "       'shanson', 'shoegazing', 'showtunes', 'singer', 'ska', 'skarock',\n",
       "       'slow', 'smooth', 'soft', 'soul', 'soulful', 'sound', 'soundtrack',\n",
       "       'southern', 'specialty', 'speech', 'spiritual', 'sport',\n",
       "       'stonerrock', 'surf', 'swing', 'synthpop', 'synthrock',\n",
       "       'sängerportrait', 'tango', 'tanzorchester', 'taraftar', 'tatar',\n",
       "       'tech', 'techno', 'teen', 'thrash', 'top', 'traditional',\n",
       "       'tradjazz', 'trance', 'tribal', 'trip', 'triphop', 'tropical',\n",
       "       'türk', 'türkçe', 'ukrrock', 'unknown', 'urban', 'uzbek',\n",
       "       'variété', 'vi', 'videogame', 'vocal', 'western', 'world',\n",
       "       'worldbeat', 'ïîï', 'электроника'], dtype=object)"
      ]
     },
     "execution_count": 12,
     "metadata": {},
     "output_type": "execute_result"
    }
   ],
   "source": [
    "# просмотр уникальных названий жанров\n",
    "df = df.sort_values(by='genre')\n",
    "df['genre'].unique()"
   ]
  },
  {
   "cell_type": "markdown",
   "metadata": {
    "id": "qej-Qmuo_Zct"
   },
   "source": [
    "Посмотрим на список, сразу можно увидеть следующие неявные дубликаты:\n",
    "* *hip*,\n",
    "* *hop*,\n",
    "* *hip-hop*.\n",
    "\n",
    "Напишем и вызовем функцию, передав ей такие аргументы, чтобы она устранила неявные дубликаты: вместо hip, hop и hip-hop в таблице будет значение hiphop."
   ]
  },
  {
   "cell_type": "code",
   "execution_count": 13,
   "metadata": {
    "id": "ErNDkmns_Zct"
   },
   "outputs": [],
   "source": [
    "# функция для замены неявных дубликатов\n",
    "def replace_wrong_genres(wrong_genres, correct_genre):\n",
    "    for genre in wrong_genres:\n",
    "        df['genre'] = df['genre'].replace(genre, correct_genre)\n",
    "wrong_genres = ['hip', 'hip-hop', 'hop']\n",
    "correct_genre = 'hiphop'"
   ]
  },
  {
   "cell_type": "code",
   "execution_count": 14,
   "metadata": {
    "id": "YN5i2hpmSo09"
   },
   "outputs": [],
   "source": [
    "# вызов функции\n",
    "replace_wrong_genres(wrong_genres, correct_genre)"
   ]
  },
  {
   "cell_type": "markdown",
   "metadata": {
    "id": "zQKF16_RG15m"
   },
   "source": [
    "Проверим, что заменили неправильные названия:"
   ]
  },
  {
   "cell_type": "code",
   "execution_count": 15,
   "metadata": {
    "id": "wvixALnFG15m"
   },
   "outputs": [
    {
     "data": {
      "text/plain": [
       "array(['acid', 'acoustic', 'action', 'adult', 'africa', 'afrikaans',\n",
       "       'alternative', 'alternativepunk', 'ambient', 'americana',\n",
       "       'animated', 'anime', 'arabesk', 'arabic', 'arena',\n",
       "       'argentinetango', 'art', 'audiobook', 'author', 'avantgarde',\n",
       "       'axé', 'baile', 'balkan', 'beats', 'bigroom', 'black', 'bluegrass',\n",
       "       'blues', 'bollywood', 'bossa', 'brazilian', 'breakbeat', 'breaks',\n",
       "       'broadway', 'cantautori', 'cantopop', 'canzone', 'caribbean',\n",
       "       'caucasian', 'celtic', 'chamber', 'chanson', 'children', 'chill',\n",
       "       'chinese', 'choral', 'christian', 'christmas', 'classical',\n",
       "       'classicmetal', 'club', 'colombian', 'comedy', 'conjazz',\n",
       "       'contemporary', 'country', 'cuban', 'dance', 'dancehall',\n",
       "       'dancepop', 'dark', 'death', 'deep', 'deutschrock', 'deutschspr',\n",
       "       'dirty', 'disco', 'dnb', 'documentary', 'downbeat', 'downtempo',\n",
       "       'drum', 'dub', 'dubstep', 'eastern', 'easy', 'electronic',\n",
       "       'electropop', 'emo', 'entehno', 'epicmetal', 'estrada', 'ethnic',\n",
       "       'eurofolk', 'european', 'experimental', 'extrememetal', 'fado',\n",
       "       'fairytail', 'film', 'fitness', 'flamenco', 'folk', 'folklore',\n",
       "       'folkmetal', 'folkrock', 'folktronica', 'forró', 'frankreich',\n",
       "       'französisch', 'french', 'funk', 'future', 'gangsta', 'garage',\n",
       "       'german', 'ghazal', 'gitarre', 'glitch', 'gospel', 'gothic',\n",
       "       'grime', 'grunge', 'gypsy', 'handsup', \"hard'n'heavy\", 'hardcore',\n",
       "       'hardstyle', 'hardtechno', 'hiphop', 'historisch', 'holiday',\n",
       "       'horror', 'house', 'hymn', 'idm', 'independent', 'indian', 'indie',\n",
       "       'indipop', 'industrial', 'inspirational', 'instrumental',\n",
       "       'international', 'irish', 'jam', 'japanese', 'jazz', 'jewish',\n",
       "       'jpop', 'jungle', 'k-pop', 'karadeniz', 'karaoke', 'kayokyoku',\n",
       "       'korean', 'laiko', 'latin', 'latino', 'leftfield', 'local',\n",
       "       'lounge', 'loungeelectronic', 'lovers', 'malaysian', 'mandopop',\n",
       "       'marschmusik', 'meditative', 'mediterranean', 'melodic', 'metal',\n",
       "       'metalcore', 'mexican', 'middle', 'minimal', 'miscellaneous',\n",
       "       'modern', 'mood', 'mpb', 'muslim', 'native', 'neoklassik', 'neue',\n",
       "       'new', 'newage', 'newwave', 'nu', 'nujazz', 'numetal', 'oceania',\n",
       "       'old', 'opera', 'orchestral', 'other', 'piano', 'podcasts', 'pop',\n",
       "       'popdance', 'popelectronic', 'popeurodance', 'poprussian', 'post',\n",
       "       'posthardcore', 'postrock', 'power', 'progmetal', 'progressive',\n",
       "       'psychedelic', 'punjabi', 'punk', 'quebecois', 'ragga', 'ram',\n",
       "       'rancheras', 'rap', 'rave', 'reggae', 'reggaeton', 'regional',\n",
       "       'relax', 'religious', 'retro', 'rhythm', 'rnb', 'rnr', 'rock',\n",
       "       'rockabilly', 'rockalternative', 'rockindie', 'rockother',\n",
       "       'romance', 'roots', 'ruspop', 'rusrap', 'rusrock', 'russian',\n",
       "       'salsa', 'samba', 'scenic', 'schlager', 'self', 'sertanejo',\n",
       "       'shanson', 'shoegazing', 'showtunes', 'singer', 'ska', 'skarock',\n",
       "       'slow', 'smooth', 'soft', 'soul', 'soulful', 'sound', 'soundtrack',\n",
       "       'southern', 'specialty', 'speech', 'spiritual', 'sport',\n",
       "       'stonerrock', 'surf', 'swing', 'synthpop', 'synthrock',\n",
       "       'sängerportrait', 'tango', 'tanzorchester', 'taraftar', 'tatar',\n",
       "       'tech', 'techno', 'teen', 'thrash', 'top', 'traditional',\n",
       "       'tradjazz', 'trance', 'tribal', 'trip', 'triphop', 'tropical',\n",
       "       'türk', 'türkçe', 'ukrrock', 'unknown', 'urban', 'uzbek',\n",
       "       'variété', 'vi', 'videogame', 'vocal', 'western', 'world',\n",
       "       'worldbeat', 'ïîï', 'электроника'], dtype=object)"
      ]
     },
     "metadata": {},
     "output_type": "display_data"
    }
   ],
   "source": [
    "# Проверка на неявные дубликаты\n",
    "display(df['genre'].unique())"
   ]
  },
  {
   "cell_type": "markdown",
   "metadata": {
    "id": "jz6a9-7HQUDd"
   },
   "source": [
    "### 2.4 Выводы\n",
    "\n",
    "В ходе предобработки данных:\n",
    "\n",
    "- Исправили нарушения в стиле заголовков;\n",
    "- Пропущенные значения заменили на `'unknown'`. Ещё предстоит увидеть, не повредят ли исследованию пропуски в колонке `genre`;\n",
    "- Избавились от явных и неявных дубликатов.\n",
    "\n",
    "\n",
    "Перейдем к проверке гипотез. "
   ]
  },
  {
   "cell_type": "markdown",
   "metadata": {
    "id": "WttZHXH0SqKk"
   },
   "source": [
    "## 3 Проверка гипотез"
   ]
  },
  {
   "cell_type": "markdown",
   "metadata": {
    "id": "Im936VVi_Zcu"
   },
   "source": [
    "### 3.1 Сравнение поведения пользователей двух столиц"
   ]
  },
  {
   "cell_type": "markdown",
   "metadata": {
    "id": "nwt_MuaL_Zcu"
   },
   "source": [
    "Первая гипотеза утверждает, что пользователи по-разному слушают музыку в Москве и Санкт-Петербурге. Проверим это предположение.\n",
    "\n",
    "Подсчитаем количество прослушиваний по городам:"
   ]
  },
  {
   "cell_type": "code",
   "execution_count": 16,
   "metadata": {
    "id": "0_Qs96oh_Zcu"
   },
   "outputs": [
    {
     "data": {
      "text/plain": [
       "city\n",
       "Moscow              42741\n",
       "Saint-Petersburg    18512\n",
       "Name: genre, dtype: int64"
      ]
     },
     "execution_count": 16,
     "metadata": {},
     "output_type": "execute_result"
    }
   ],
   "source": [
    "# Подсчёт прослушиваний в каждом городе\n",
    "df.groupby('city')['genre'].count()"
   ]
  },
  {
   "cell_type": "markdown",
   "metadata": {
    "id": "dzli3w8o_Zcu"
   },
   "source": [
    "В Москве прослушиваний в 2.3 раза больше, чем в Петербурге. Это не означает, что московские пользователи чаще слушают музыку, просто пользователей в Москве больше.\n",
    "\n",
    "Подсчитаем количество прослушиваний по дням недели:"
   ]
  },
  {
   "cell_type": "code",
   "execution_count": 17,
   "metadata": {
    "id": "uZMKjiJz_Zcu"
   },
   "outputs": [
    {
     "data": {
      "text/plain": [
       "day\n",
       "Friday       21840\n",
       "Monday       21354\n",
       "Wednesday    18059\n",
       "Name: genre, dtype: int64"
      ]
     },
     "execution_count": 17,
     "metadata": {},
     "output_type": "execute_result"
    }
   ],
   "source": [
    "# Подсчёт прослушиваний по дням недели\n",
    "df.groupby('day')['genre'].count()"
   ]
  },
  {
   "cell_type": "markdown",
   "metadata": {
    "id": "cC2tNrlL_Zcu"
   },
   "source": [
    "В данных имеется информация только по трем дням недели: понедельник, среда, пятница. В среднем пользователи из двух городов менее активны по средам. Но картина может измениться, если рассмотреть каждый город в отдельности.\n",
    "\n",
    "Объединим полученные результаты в одну таблицу:"
   ]
  },
  {
   "cell_type": "code",
   "execution_count": 18,
   "metadata": {
    "id": "Nz3GdQB1_Zcu"
   },
   "outputs": [],
   "source": [
    "# объявление функции number_tracks()с двумя параметрами: day, city\n",
    "def number_tracks(day, city):\n",
    "    track_list = df[df['day'] == day]\n",
    "    track_list = track_list[track_list['city'] == city]\n",
    "    track_list_count = track_list['user_id'].count()\n",
    "    return track_list_count\n",
    "\n",
    "# Функция для подсчёта прослушиваний для конкретного города и дня.\n",
    "# С помощью последовательной фильтрации с логической индексацией она \n",
    "# сначала получит из исходной таблицы строки с нужным днём,\n",
    "# затем из результата отфильтрует строки с нужным городом,\n",
    "# методом count() посчитает количество значений в колонке user_id. \n",
    "# Это количество функция вернёт в качестве результата"
   ]
  },
  {
   "cell_type": "code",
   "execution_count": 19,
   "metadata": {},
   "outputs": [
    {
     "data": {
      "text/html": [
       "<div>\n",
       "<style scoped>\n",
       "    .dataframe tbody tr th:only-of-type {\n",
       "        vertical-align: middle;\n",
       "    }\n",
       "\n",
       "    .dataframe tbody tr th {\n",
       "        vertical-align: top;\n",
       "    }\n",
       "\n",
       "    .dataframe thead th {\n",
       "        text-align: right;\n",
       "    }\n",
       "</style>\n",
       "<table border=\"1\" class=\"dataframe\">\n",
       "  <thead>\n",
       "    <tr style=\"text-align: right;\">\n",
       "      <th></th>\n",
       "      <th>Moscow</th>\n",
       "      <th>Saint-Petersburg</th>\n",
       "    </tr>\n",
       "  </thead>\n",
       "  <tbody>\n",
       "    <tr>\n",
       "      <th>Monday</th>\n",
       "      <td>15740</td>\n",
       "      <td>5614</td>\n",
       "    </tr>\n",
       "    <tr>\n",
       "      <th>Wednesday</th>\n",
       "      <td>11056</td>\n",
       "      <td>7003</td>\n",
       "    </tr>\n",
       "    <tr>\n",
       "      <th>Friday</th>\n",
       "      <td>15945</td>\n",
       "      <td>5895</td>\n",
       "    </tr>\n",
       "  </tbody>\n",
       "</table>\n",
       "</div>"
      ],
      "text/plain": [
       "           Moscow  Saint-Petersburg\n",
       "Monday      15740              5614\n",
       "Wednesday   11056              7003\n",
       "Friday      15945              5895"
      ]
     },
     "execution_count": 19,
     "metadata": {},
     "output_type": "execute_result"
    }
   ],
   "source": [
    "# dict-comprehension\n",
    "pd.DataFrame({city : {day : number_tracks(day, city) for day in ['Monday','Wednesday','Friday']} for city in ['Moscow','Saint-Petersburg']})"
   ]
  },
  {
   "cell_type": "markdown",
   "metadata": {
    "id": "-EgPIHYu_Zcu"
   },
   "source": [
    "#### 3.1.1 Выводы\n",
    "\n",
    "Данные подтверждают разницу в поведении пользователей:\n",
    "\n",
    "- В Москве пик прослушиваний приходится на понедельник и пятницу, а в среду заметен спад.\n",
    "- В Санкт-Петербурге, наоборот, больше слушают музыку по средам. Активность в понедельник и пятницу здесь почти в равной мере уступает среде.\n",
    "\n",
    "Делаем вывод, что данные говорят в пользу первой гипотезы."
   ]
  },
  {
   "cell_type": "markdown",
   "metadata": {
    "id": "atZAxtq4_Zcu"
   },
   "source": [
    "### 3.2 Музыка в начале и в конце недели"
   ]
  },
  {
   "cell_type": "markdown",
   "metadata": {
    "id": "eXrQqXFH_Zcu"
   },
   "source": [
    "Согласно второй гипотезе, утром в понедельник, а также вечером в пятнцу в Москве преобладают одни жанры, а в Петербурге другие."
   ]
  },
  {
   "cell_type": "code",
   "execution_count": 20,
   "metadata": {
    "id": "qeaFfM_P_Zcu"
   },
   "outputs": [],
   "source": [
    "# информация по жителям Москвы\n",
    "moscow_general = df[df['city'] == 'Moscow']"
   ]
  },
  {
   "cell_type": "code",
   "execution_count": 21,
   "metadata": {
    "id": "ORaVRKto_Zcu"
   },
   "outputs": [],
   "source": [
    "# информация по жителям СПб\n",
    "spb_general = df[df['city'] == 'Saint-Petersburg']"
   ]
  },
  {
   "cell_type": "markdown",
   "metadata": {
    "id": "MEJV-CX2_Zcu"
   },
   "source": [
    "Создадим функцию, которая вернет информацию о топ-10 жанров тех треков, которые прослушивали в указанный день, в промежутке между двумя отметками времени."
   ]
  },
  {
   "cell_type": "code",
   "execution_count": 39,
   "metadata": {
    "id": "laJT9BYl_Zcu"
   },
   "outputs": [],
   "source": [
    "# Объявление функции genre_weekday() с параметрами table, day, time1, time2\n",
    "\n",
    "def genre_weekday(table, day, time1, time2):\n",
    "    # в переменную genre_df сохраняются те строки переданного датафрейма table, для\n",
    "#    которых одновременно:\n",
    "#    - значение в столбце day равно значению аргумента day\n",
    "#    - значение в столбце time больше значения аргумента time1\n",
    "#    - значение в столбце time меньше значения аргумента time2\n",
    "    genre_df = table[table['day'] == day]\n",
    "    genre_df = genre_df[genre_df['time'] > time1]\n",
    "    genre_df = genre_df[genre_df['time'] < time2]\n",
    "    \n",
    "    genre_df_count = genre_df.groupby('genre')['artist'].count()\n",
    "    genre_df_sorted = genre_df_count.sort_values(ascending = False)\n",
    "    return genre_df_sorted.head(10)"
   ]
  },
  {
   "cell_type": "markdown",
   "metadata": {
    "id": "la2s2_PF_Zcu"
   },
   "source": [
    "Cравним результаты функции `genre_weekday()` для Москвы и Санкт-Петербурга в понедельник утром (с 7:00 до 11:00) и в пятницу вечером (с 17:00 до 23:00):"
   ]
  },
  {
   "cell_type": "code",
   "execution_count": 41,
   "metadata": {
    "id": "yz7itPUQ_Zcu"
   },
   "outputs": [
    {
     "data": {
      "text/plain": [
       "genre\n",
       "pop            781\n",
       "dance          549\n",
       "electronic     480\n",
       "rock           474\n",
       "hiphop         286\n",
       "ruspop         186\n",
       "world          181\n",
       "rusrap         175\n",
       "alternative    164\n",
       "unknown        161\n",
       "Name: artist, dtype: int64"
      ]
     },
     "execution_count": 41,
     "metadata": {},
     "output_type": "execute_result"
    }
   ],
   "source": [
    "# Москва, пн, утро\n",
    "genre_weekday(moscow_general, 'Monday', '07:00', '11:00')"
   ]
  },
  {
   "cell_type": "code",
   "execution_count": 42,
   "metadata": {
    "id": "kwUcHPdy_Zcu"
   },
   "outputs": [
    {
     "data": {
      "text/plain": [
       "genre\n",
       "pop            218\n",
       "dance          182\n",
       "rock           162\n",
       "electronic     147\n",
       "hiphop          80\n",
       "ruspop          64\n",
       "alternative     58\n",
       "rusrap          55\n",
       "jazz            44\n",
       "classical       40\n",
       "Name: artist, dtype: int64"
      ]
     },
     "execution_count": 42,
     "metadata": {},
     "output_type": "execute_result"
    }
   ],
   "source": [
    "# Петербург, пн, утро\n",
    "genre_weekday(spb_general, 'Monday', '07:00', '11:00')"
   ]
  },
  {
   "cell_type": "code",
   "execution_count": 43,
   "metadata": {
    "id": "EzXVRE1o_Zcu"
   },
   "outputs": [
    {
     "data": {
      "text/plain": [
       "genre\n",
       "pop            713\n",
       "rock           517\n",
       "dance          495\n",
       "electronic     482\n",
       "hiphop         273\n",
       "world          208\n",
       "ruspop         170\n",
       "alternative    163\n",
       "classical      163\n",
       "rusrap         142\n",
       "Name: artist, dtype: int64"
      ]
     },
     "execution_count": 43,
     "metadata": {},
     "output_type": "execute_result"
    }
   ],
   "source": [
    "# Москва, пт, вечер\n",
    "genre_weekday(moscow_general, 'Friday', '17:00', '23:00')"
   ]
  },
  {
   "cell_type": "code",
   "execution_count": 44,
   "metadata": {
    "id": "JZaEKu5v_Zcu"
   },
   "outputs": [
    {
     "data": {
      "text/plain": [
       "genre\n",
       "pop            256\n",
       "electronic     216\n",
       "rock           216\n",
       "dance          210\n",
       "hiphop          97\n",
       "alternative     63\n",
       "jazz            61\n",
       "classical       60\n",
       "rusrap          59\n",
       "world           54\n",
       "Name: artist, dtype: int64"
      ]
     },
     "execution_count": 44,
     "metadata": {},
     "output_type": "execute_result"
    }
   ],
   "source": [
    "# Петербург, пт, вечер\n",
    "genre_weekday(spb_general, 'Friday', '17:00', '23:00')"
   ]
  },
  {
   "cell_type": "markdown",
   "metadata": {
    "id": "wrCe4MNX_Zcu"
   },
   "source": [
    "#### 3.2.1 Выводы\n",
    "\n",
    "Если сравнить топ-10 жанров в понедельник утром, можно сделать следующие выводы:\n",
    "\n",
    "1. В Москве и Петербурге слушают похожую музыку. Единственное отличие — в московский рейтинг вошёл жанр “world”, а в петербургский — джаз и классика;\n",
    "\n",
    "2. В Москве пропущенных значений оказалось так много, что значение `'unknown'` заняло десятое место среди самых популярных жанров. Значит, пропущенные значения занимают существенную долю в данных и угрожают достоверности исследования.\n",
    "\n",
    "Вечер пятницы не меняет эту картину. Некоторые жанры поднимаются немного выше, другие спускаются, но в целом топ-10 остаётся тем же самым.\n",
    "\n",
    "Таким образом, вторая гипотеза подтвердилась лишь частично:\n",
    "* Пользователи слушают похожую музыку в начале недели и в конце.\n",
    "* Разница между Москвой и Петербургом не слишком выражена. В Москве чаще слушают русскую популярную музыку, в Петербурге — джаз.\n",
    "\n",
    "Однако пропуски в данных ставят под сомнение этот результат. В Москве их так много, что рейтинг мог бы выглядеть иначе, если бы не утерянные  данные о жанрах."
   ]
  },
  {
   "cell_type": "markdown",
   "metadata": {
    "id": "JolODAqr_Zcu"
   },
   "source": [
    "### 3.3 Жанровые предпочтения в Москве и Петербурге\n",
    "\n",
    "Третья гипотеза о том, что Петербург — столица рэпа, музыку этого жанра там слушают чаще, чем в Москве.  А Москва — город контрастов, в котором, тем не менее, преобладает поп-музыка.\n",
    "\n",
    "Сгруппируем таблицу `moscow_general` по жанру и посчитаем прослушивания треков каждого жанра:"
   ]
  },
  {
   "cell_type": "code",
   "execution_count": 38,
   "metadata": {
    "id": "r19lIPke_Zcu"
   },
   "outputs": [
    {
     "data": {
      "text/plain": [
       "genre\n",
       "pop            5892\n",
       "dance          4435\n",
       "rock           3965\n",
       "electronic     3786\n",
       "hiphop         2096\n",
       "classical      1616\n",
       "world          1432\n",
       "alternative    1379\n",
       "ruspop         1372\n",
       "rusrap         1161\n",
       "Name: day, dtype: int64"
      ]
     },
     "execution_count": 38,
     "metadata": {},
     "output_type": "execute_result"
    }
   ],
   "source": [
    "moscow_genres = moscow_general.groupby('genre')['day'].count().sort_values(ascending = False)\n",
    "moscow_genres.head(10)"
   ]
  },
  {
   "cell_type": "markdown",
   "metadata": {
    "id": "cnPG2vnN_Zcv"
   },
   "source": [
    "Повторим для Петербурга:"
   ]
  },
  {
   "cell_type": "code",
   "execution_count": 25,
   "metadata": {
    "id": "gluLIpE7_Zcv"
   },
   "outputs": [
    {
     "data": {
      "text/plain": [
       "genre\n",
       "pop            2431\n",
       "dance          1932\n",
       "rock           1879\n",
       "electronic     1736\n",
       "hiphop          960\n",
       "alternative     649\n",
       "classical       646\n",
       "rusrap          564\n",
       "ruspop          538\n",
       "world           515\n",
       "Name: day, dtype: int64"
      ]
     },
     "execution_count": 25,
     "metadata": {},
     "output_type": "execute_result"
    }
   ],
   "source": [
    "spb_genres = spb_general.groupby('genre')['day'].count().sort_values(ascending = False)\n",
    "spb_genres.head(10)"
   ]
  },
  {
   "cell_type": "markdown",
   "metadata": {
    "id": "RY51YJYu_Zcv"
   },
   "source": [
    "#### 3.3.1 Выводы"
   ]
  },
  {
   "cell_type": "markdown",
   "metadata": {
    "id": "nVhnJEm__Zcv"
   },
   "source": [
    "Третья гипотеза частично подтвердилась:\n",
    "* Поп-музыка — самый популярный жанр в Москве, как и предполагала гипотеза. Более того, в топ-10 жанров встречается близкий жанр — русская популярная музыка.\n",
    "* Вопреки ожиданиям, рэп одинаково популярен в Москве и Петербурге. \n"
   ]
  },
  {
   "cell_type": "markdown",
   "metadata": {
    "id": "ykKQ0N65_Zcv"
   },
   "source": [
    "## Итоги исследования"
   ]
  },
  {
   "cell_type": "markdown",
   "metadata": {
    "id": "tjUwbHb3_Zcv"
   },
   "source": [
    "Проверено три гипотезы и установилено:\n",
    "\n",
    "1. Первая гипотеза полностью подтвердилась. \n",
    "\n",
    "День недели по-разному влияет на активность пользователей в Москве и Петербурге. \n",
    "\n",
    "\n",
    "2. Вторая гипотеза подтвердилась лишь отчасти. Этот результат мог оказаться иным, если бы не пропуски в данных.\n",
    "\n",
    "Музыкальные предпочтения не сильно меняются в течение недели — будь то Москва или Петербург. Небольшие различия заметны в начале недели, по понедельникам:\n",
    "\n",
    "* в Москве слушают музыку жанра “world”,\n",
    "* в Петербурге — джаз и классику.\n",
    "\n",
    "\n",
    "3. Третья гипотеза не подтвердилась.\n",
    "\n",
    "Во вкусах пользователей Москвы и Петербурга больше общего чем различий. Вопреки ожиданиям, предпочтения жанров в Петербурге напоминают московские.\n",
    "\n",
    "Если различия в предпочтениях и существуют, на основной массе пользователей они незаметны.\n",
    "\n",
    "**На практике исследования содержат проверки статистических гипотез.**\n",
    "Из данных одного сервиса не всегда можно сделать вывод о всех жителях города.\n",
    "Проверки статистических гипотез покажут, насколько они достоверны, исходя из имеющихся данных. \n",
    "С методами проверок гипотез вы ещё познакомитесь в следующих темах."
   ]
  }
 ],
 "metadata": {
  "ExecuteTimeLog": [
   {
    "duration": 327,
    "start_time": "2021-11-08T10:48:41.634Z"
   },
   {
    "duration": 274,
    "start_time": "2021-11-08T10:49:01.590Z"
   },
   {
    "duration": 287,
    "start_time": "2021-11-08T10:49:37.198Z"
   },
   {
    "duration": 273,
    "start_time": "2021-11-08T10:50:33.437Z"
   },
   {
    "duration": 342,
    "start_time": "2021-11-08T10:51:16.713Z"
   },
   {
    "duration": 338,
    "start_time": "2021-11-08T10:53:57.310Z"
   },
   {
    "duration": 278,
    "start_time": "2021-11-08T10:54:39.114Z"
   },
   {
    "duration": 278,
    "start_time": "2021-11-08T10:55:36.455Z"
   },
   {
    "duration": 269,
    "start_time": "2021-11-08T11:06:55.254Z"
   },
   {
    "duration": 751,
    "start_time": "2021-11-08T11:09:17.496Z"
   },
   {
    "duration": 729,
    "start_time": "2021-11-08T11:10:50.344Z"
   },
   {
    "duration": 370,
    "start_time": "2021-11-08T11:11:04.924Z"
   },
   {
    "duration": 4,
    "start_time": "2021-11-08T11:12:03.582Z"
   },
   {
    "duration": 3,
    "start_time": "2021-11-08T11:12:09.059Z"
   },
   {
    "duration": 305,
    "start_time": "2021-11-08T11:29:36.211Z"
   },
   {
    "duration": 273,
    "start_time": "2021-11-08T11:30:04.037Z"
   },
   {
    "duration": 277,
    "start_time": "2021-11-08T11:30:18.285Z"
   },
   {
    "duration": 348,
    "start_time": "2021-11-08T11:30:26.124Z"
   },
   {
    "duration": 268,
    "start_time": "2021-11-08T11:31:14.150Z"
   },
   {
    "duration": 753,
    "start_time": "2021-11-08T11:31:26.679Z"
   },
   {
    "duration": 486,
    "start_time": "2021-11-08T11:31:29.072Z"
   },
   {
    "duration": 177,
    "start_time": "2021-11-08T11:31:46.496Z"
   },
   {
    "duration": 194,
    "start_time": "2021-11-08T11:31:49.990Z"
   },
   {
    "duration": 25,
    "start_time": "2021-11-08T11:32:29.044Z"
   },
   {
    "duration": 17,
    "start_time": "2021-11-08T11:35:24.433Z"
   },
   {
    "duration": 16,
    "start_time": "2021-11-08T11:35:38.016Z"
   },
   {
    "duration": 33,
    "start_time": "2021-11-08T11:35:58.749Z"
   },
   {
    "duration": 5,
    "start_time": "2021-11-08T11:47:28.673Z"
   },
   {
    "duration": 26,
    "start_time": "2021-11-08T11:52:26.657Z"
   },
   {
    "duration": 6,
    "start_time": "2021-11-08T11:52:37.917Z"
   },
   {
    "duration": 208,
    "start_time": "2021-11-08T16:04:31.425Z"
   },
   {
    "duration": 561,
    "start_time": "2021-11-08T16:04:42.015Z"
   },
   {
    "duration": 135,
    "start_time": "2021-11-08T16:04:45.294Z"
   },
   {
    "duration": 17,
    "start_time": "2021-11-08T16:04:48.190Z"
   },
   {
    "duration": 24,
    "start_time": "2021-11-08T16:05:00.621Z"
   },
   {
    "duration": 4,
    "start_time": "2021-11-08T16:05:06.584Z"
   },
   {
    "duration": 21,
    "start_time": "2021-11-08T16:05:10.186Z"
   },
   {
    "duration": 4,
    "start_time": "2021-11-08T16:05:13.674Z"
   },
   {
    "duration": 4,
    "start_time": "2021-11-08T16:06:06.595Z"
   },
   {
    "duration": 8,
    "start_time": "2021-11-08T16:06:10.470Z"
   },
   {
    "duration": 202,
    "start_time": "2021-11-08T16:06:21.977Z"
   },
   {
    "duration": 194,
    "start_time": "2021-11-08T16:06:33.333Z"
   },
   {
    "duration": 21,
    "start_time": "2021-11-08T16:06:53.600Z"
   },
   {
    "duration": 5279,
    "start_time": "2021-11-08T16:15:45.927Z"
   },
   {
    "duration": 193,
    "start_time": "2021-11-08T16:17:56.642Z"
   },
   {
    "duration": 166,
    "start_time": "2021-11-08T16:18:06.074Z"
   },
   {
    "duration": 185,
    "start_time": "2021-11-08T16:18:24.716Z"
   },
   {
    "duration": 21,
    "start_time": "2021-11-08T16:19:43.954Z"
   },
   {
    "duration": 63,
    "start_time": "2021-11-08T16:23:47.183Z"
   },
   {
    "duration": 7,
    "start_time": "2021-11-08T16:23:55.199Z"
   },
   {
    "duration": 22,
    "start_time": "2021-11-08T16:24:06.716Z"
   },
   {
    "duration": 13,
    "start_time": "2021-11-08T16:24:26.755Z"
   },
   {
    "duration": 14,
    "start_time": "2021-11-08T16:24:44.513Z"
   },
   {
    "duration": 14,
    "start_time": "2021-11-08T16:28:25.124Z"
   },
   {
    "duration": 22,
    "start_time": "2021-11-08T16:29:37.647Z"
   },
   {
    "duration": 127,
    "start_time": "2021-11-08T16:31:52.467Z"
   },
   {
    "duration": 23,
    "start_time": "2021-11-08T16:32:02.653Z"
   },
   {
    "duration": 5088,
    "start_time": "2021-11-08T16:34:13.667Z"
   },
   {
    "duration": 294,
    "start_time": "2021-11-08T16:34:38.425Z"
   },
   {
    "duration": 109,
    "start_time": "2021-11-08T16:36:07.438Z"
   },
   {
    "duration": 22,
    "start_time": "2021-11-08T16:36:10.366Z"
   },
   {
    "duration": 211,
    "start_time": "2021-11-08T16:37:42.564Z"
   },
   {
    "duration": 173,
    "start_time": "2021-11-08T16:37:54.157Z"
   },
   {
    "duration": 22,
    "start_time": "2021-11-08T16:37:57.935Z"
   },
   {
    "duration": 46,
    "start_time": "2021-11-08T16:38:30.358Z"
   },
   {
    "duration": 22,
    "start_time": "2021-11-08T16:38:33.795Z"
   },
   {
    "duration": 47,
    "start_time": "2021-11-08T16:38:51.780Z"
   },
   {
    "duration": 4659,
    "start_time": "2021-11-08T16:39:05.931Z"
   },
   {
    "duration": 5109,
    "start_time": "2021-11-08T16:39:30.633Z"
   },
   {
    "duration": 11,
    "start_time": "2021-11-08T16:39:45.804Z"
   },
   {
    "duration": 13,
    "start_time": "2021-11-08T16:39:57.562Z"
   },
   {
    "duration": 49,
    "start_time": "2021-11-08T16:41:17.062Z"
   },
   {
    "duration": 40,
    "start_time": "2021-11-08T16:41:42.356Z"
   },
   {
    "duration": 23,
    "start_time": "2021-11-08T16:41:46.209Z"
   },
   {
    "duration": 21,
    "start_time": "2021-11-08T16:42:12.529Z"
   },
   {
    "duration": 21,
    "start_time": "2021-11-08T16:42:21.487Z"
   },
   {
    "duration": 4356,
    "start_time": "2021-11-08T16:42:31.271Z"
   },
   {
    "duration": 188,
    "start_time": "2021-11-08T16:46:35.609Z"
   },
   {
    "duration": 210,
    "start_time": "2021-11-08T16:46:52.727Z"
   },
   {
    "duration": 23,
    "start_time": "2021-11-08T16:47:03.073Z"
   },
   {
    "duration": 182,
    "start_time": "2021-11-08T16:48:31.961Z"
   },
   {
    "duration": 178,
    "start_time": "2021-11-08T16:48:43.379Z"
   },
   {
    "duration": 41,
    "start_time": "2021-11-08T16:51:49.225Z"
   },
   {
    "duration": 42,
    "start_time": "2021-11-08T16:53:16.108Z"
   },
   {
    "duration": 53,
    "start_time": "2021-11-08T16:54:21.182Z"
   },
   {
    "duration": 48,
    "start_time": "2021-11-08T16:54:30.062Z"
   },
   {
    "duration": 61,
    "start_time": "2021-11-08T16:58:19.531Z"
   },
   {
    "duration": 336,
    "start_time": "2021-11-08T16:58:27.767Z"
   },
   {
    "duration": 71,
    "start_time": "2021-11-08T16:58:39.210Z"
   },
   {
    "duration": 1370,
    "start_time": "2021-11-08T16:58:45.493Z"
   },
   {
    "duration": 21,
    "start_time": "2021-11-08T16:59:03.269Z"
   },
   {
    "duration": 174,
    "start_time": "2021-11-08T16:59:36.295Z"
   },
   {
    "duration": 5019,
    "start_time": "2021-11-08T16:59:54.581Z"
   },
   {
    "duration": 22,
    "start_time": "2021-11-08T16:59:59.705Z"
   },
   {
    "duration": 186,
    "start_time": "2021-11-08T17:00:18.599Z"
   },
   {
    "duration": 58,
    "start_time": "2021-11-08T17:07:23.550Z"
   },
   {
    "duration": 21,
    "start_time": "2021-11-08T17:07:49.141Z"
   },
   {
    "duration": 21,
    "start_time": "2021-11-08T17:07:54.073Z"
   },
   {
    "duration": 38,
    "start_time": "2021-11-08T17:08:41.851Z"
   },
   {
    "duration": 22,
    "start_time": "2021-11-08T17:08:46.680Z"
   },
   {
    "duration": 36,
    "start_time": "2021-11-08T17:09:18.099Z"
   },
   {
    "duration": 49,
    "start_time": "2021-11-08T17:10:19.988Z"
   },
   {
    "duration": 26,
    "start_time": "2021-11-08T17:10:46.914Z"
   },
   {
    "duration": 28,
    "start_time": "2021-11-08T17:14:21.415Z"
   },
   {
    "duration": 22,
    "start_time": "2021-11-08T17:14:34.598Z"
   },
   {
    "duration": 46,
    "start_time": "2021-11-08T17:14:51.859Z"
   },
   {
    "duration": 45,
    "start_time": "2021-11-08T17:15:15.279Z"
   },
   {
    "duration": 61,
    "start_time": "2021-11-08T17:16:36.027Z"
   },
   {
    "duration": 65,
    "start_time": "2021-11-08T17:17:17.564Z"
   },
   {
    "duration": 53,
    "start_time": "2021-11-08T17:17:29.099Z"
   },
   {
    "duration": 191,
    "start_time": "2021-11-08T17:18:13.599Z"
   },
   {
    "duration": 51,
    "start_time": "2021-11-08T17:24:52.020Z"
   },
   {
    "duration": 22,
    "start_time": "2021-11-08T17:24:57.122Z"
   },
   {
    "duration": 38,
    "start_time": "2021-11-08T17:26:12.547Z"
   },
   {
    "duration": 40,
    "start_time": "2021-11-08T17:26:22.994Z"
   },
   {
    "duration": 20,
    "start_time": "2021-11-08T17:26:32.712Z"
   },
   {
    "duration": 63,
    "start_time": "2021-11-08T17:27:44.846Z"
   },
   {
    "duration": 48,
    "start_time": "2021-11-08T17:28:54.476Z"
   },
   {
    "duration": 169,
    "start_time": "2021-11-08T17:29:51.407Z"
   },
   {
    "duration": 5,
    "start_time": "2021-11-08T17:30:21.147Z"
   },
   {
    "duration": 170,
    "start_time": "2021-11-08T17:30:43.723Z"
   },
   {
    "duration": 183,
    "start_time": "2021-11-08T17:31:49.000Z"
   },
   {
    "duration": 190,
    "start_time": "2021-11-08T17:35:20.101Z"
   },
   {
    "duration": 181,
    "start_time": "2021-11-08T17:35:38.841Z"
   },
   {
    "duration": 184,
    "start_time": "2021-11-08T17:35:54.911Z"
   },
   {
    "duration": 214,
    "start_time": "2021-11-08T17:36:12.711Z"
   },
   {
    "duration": 183,
    "start_time": "2021-11-08T17:37:30.074Z"
   },
   {
    "duration": 215,
    "start_time": "2021-11-08T17:38:52.778Z"
   },
   {
    "duration": 227,
    "start_time": "2021-11-08T17:41:16.411Z"
   },
   {
    "duration": 552,
    "start_time": "2021-11-08T17:41:39.606Z"
   },
   {
    "duration": 134,
    "start_time": "2021-11-08T17:41:40.160Z"
   },
   {
    "duration": 16,
    "start_time": "2021-11-08T17:41:40.296Z"
   },
   {
    "duration": 25,
    "start_time": "2021-11-08T17:41:40.315Z"
   },
   {
    "duration": 4,
    "start_time": "2021-11-08T17:41:40.342Z"
   },
   {
    "duration": 52,
    "start_time": "2021-11-08T17:41:40.348Z"
   },
   {
    "duration": 4,
    "start_time": "2021-11-08T17:41:40.402Z"
   },
   {
    "duration": 30,
    "start_time": "2021-11-08T17:41:40.409Z"
   },
   {
    "duration": 71,
    "start_time": "2021-11-08T17:41:40.441Z"
   },
   {
    "duration": 22,
    "start_time": "2021-11-08T17:41:40.514Z"
   },
   {
    "duration": 65,
    "start_time": "2021-11-08T17:41:40.538Z"
   },
   {
    "duration": 67,
    "start_time": "2021-11-08T17:41:40.605Z"
   },
   {
    "duration": 60,
    "start_time": "2021-11-08T17:41:40.674Z"
   },
   {
    "duration": 14,
    "start_time": "2021-11-08T17:41:40.736Z"
   },
   {
    "duration": 6,
    "start_time": "2021-11-08T17:41:40.751Z"
   },
   {
    "duration": 14,
    "start_time": "2021-11-08T17:41:40.759Z"
   },
   {
    "duration": 11,
    "start_time": "2021-11-08T17:41:40.774Z"
   },
   {
    "duration": 7,
    "start_time": "2021-11-08T17:41:40.786Z"
   },
   {
    "duration": 11,
    "start_time": "2021-11-08T17:41:40.794Z"
   },
   {
    "duration": 5,
    "start_time": "2021-11-08T17:41:40.806Z"
   },
   {
    "duration": 7,
    "start_time": "2021-11-08T17:41:40.813Z"
   },
   {
    "duration": 6,
    "start_time": "2021-11-08T17:41:40.821Z"
   },
   {
    "duration": 2,
    "start_time": "2021-11-08T17:41:40.830Z"
   },
   {
    "duration": 4,
    "start_time": "2021-11-08T17:41:40.834Z"
   },
   {
    "duration": 15,
    "start_time": "2021-11-08T17:41:40.840Z"
   },
   {
    "duration": 11,
    "start_time": "2021-11-08T17:41:40.857Z"
   },
   {
    "duration": 11,
    "start_time": "2021-11-08T17:41:40.870Z"
   },
   {
    "duration": 10,
    "start_time": "2021-11-08T17:41:40.882Z"
   },
   {
    "duration": 6,
    "start_time": "2021-11-08T17:41:40.894Z"
   },
   {
    "duration": 16,
    "start_time": "2021-11-08T17:41:40.901Z"
   },
   {
    "duration": 12,
    "start_time": "2021-11-08T17:41:40.919Z"
   },
   {
    "duration": 4,
    "start_time": "2021-11-08T17:41:40.933Z"
   },
   {
    "duration": 15,
    "start_time": "2021-11-08T17:41:40.939Z"
   },
   {
    "duration": 10,
    "start_time": "2021-11-08T17:41:40.955Z"
   },
   {
    "duration": 5,
    "start_time": "2021-11-08T17:41:40.967Z"
   },
   {
    "duration": 8,
    "start_time": "2021-11-08T17:41:40.973Z"
   },
   {
    "duration": 5,
    "start_time": "2021-11-08T17:41:40.982Z"
   },
   {
    "duration": 6,
    "start_time": "2021-11-08T17:41:40.988Z"
   },
   {
    "duration": 237,
    "start_time": "2021-11-08T17:41:52.943Z"
   },
   {
    "duration": 177,
    "start_time": "2021-11-08T17:43:25.561Z"
   },
   {
    "duration": 175,
    "start_time": "2021-11-08T17:43:31.506Z"
   },
   {
    "duration": 187,
    "start_time": "2021-11-08T17:43:49.365Z"
   },
   {
    "duration": 956,
    "start_time": "2021-11-08T17:44:10.785Z"
   },
   {
    "duration": 172,
    "start_time": "2021-11-08T17:44:45.288Z"
   },
   {
    "duration": 176,
    "start_time": "2021-11-08T17:45:02.121Z"
   },
   {
    "duration": 181,
    "start_time": "2021-11-08T17:45:32.849Z"
   },
   {
    "duration": 198,
    "start_time": "2021-11-08T17:45:46.413Z"
   },
   {
    "duration": 571,
    "start_time": "2021-11-08T17:45:57.764Z"
   },
   {
    "duration": 127,
    "start_time": "2021-11-08T17:45:58.337Z"
   },
   {
    "duration": 16,
    "start_time": "2021-11-08T17:45:58.468Z"
   },
   {
    "duration": 23,
    "start_time": "2021-11-08T17:45:58.491Z"
   },
   {
    "duration": 5,
    "start_time": "2021-11-08T17:45:58.516Z"
   },
   {
    "duration": 25,
    "start_time": "2021-11-08T17:45:58.522Z"
   },
   {
    "duration": 8,
    "start_time": "2021-11-08T17:45:58.549Z"
   },
   {
    "duration": 44,
    "start_time": "2021-11-08T17:45:58.559Z"
   },
   {
    "duration": 56,
    "start_time": "2021-11-08T17:45:58.605Z"
   },
   {
    "duration": 30,
    "start_time": "2021-11-08T17:45:58.662Z"
   },
   {
    "duration": 53,
    "start_time": "2021-11-08T17:45:58.693Z"
   },
   {
    "duration": 79,
    "start_time": "2021-11-08T17:45:58.748Z"
   },
   {
    "duration": 47,
    "start_time": "2021-11-08T17:45:58.828Z"
   },
   {
    "duration": 49,
    "start_time": "2021-11-08T17:45:58.876Z"
   },
   {
    "duration": 3,
    "start_time": "2021-11-08T17:45:58.926Z"
   },
   {
    "duration": 7,
    "start_time": "2021-11-08T17:45:58.930Z"
   },
   {
    "duration": 6,
    "start_time": "2021-11-08T17:45:58.939Z"
   },
   {
    "duration": 11,
    "start_time": "2021-11-08T17:45:58.947Z"
   },
   {
    "duration": 6,
    "start_time": "2021-11-08T17:45:58.959Z"
   },
   {
    "duration": 5,
    "start_time": "2021-11-08T17:45:58.967Z"
   },
   {
    "duration": 8,
    "start_time": "2021-11-08T17:45:58.973Z"
   },
   {
    "duration": 3,
    "start_time": "2021-11-08T17:45:58.984Z"
   },
   {
    "duration": 3,
    "start_time": "2021-11-08T17:45:58.991Z"
   },
   {
    "duration": 6,
    "start_time": "2021-11-08T17:45:58.996Z"
   },
   {
    "duration": 6,
    "start_time": "2021-11-08T17:45:59.003Z"
   },
   {
    "duration": 4,
    "start_time": "2021-11-08T17:45:59.010Z"
   },
   {
    "duration": 6,
    "start_time": "2021-11-08T17:45:59.016Z"
   },
   {
    "duration": 5,
    "start_time": "2021-11-08T17:45:59.023Z"
   },
   {
    "duration": 5,
    "start_time": "2021-11-08T17:45:59.029Z"
   },
   {
    "duration": 4,
    "start_time": "2021-11-08T17:45:59.035Z"
   },
   {
    "duration": 9,
    "start_time": "2021-11-08T17:45:59.041Z"
   },
   {
    "duration": 6,
    "start_time": "2021-11-08T17:45:59.052Z"
   },
   {
    "duration": 7,
    "start_time": "2021-11-08T17:45:59.060Z"
   },
   {
    "duration": 7,
    "start_time": "2021-11-08T17:45:59.068Z"
   },
   {
    "duration": 6,
    "start_time": "2021-11-08T17:45:59.076Z"
   },
   {
    "duration": 8,
    "start_time": "2021-11-08T17:45:59.083Z"
   },
   {
    "duration": 4,
    "start_time": "2021-11-08T17:45:59.093Z"
   },
   {
    "duration": 6,
    "start_time": "2021-11-08T17:45:59.099Z"
   },
   {
    "duration": 58,
    "start_time": "2021-11-08T17:46:18.818Z"
   },
   {
    "duration": 46,
    "start_time": "2021-11-08T17:46:48.014Z"
   },
   {
    "duration": 239,
    "start_time": "2021-11-08T17:46:56.158Z"
   },
   {
    "duration": 190,
    "start_time": "2021-11-08T17:47:25.518Z"
   },
   {
    "duration": 175,
    "start_time": "2021-11-08T17:49:21.693Z"
   },
   {
    "duration": 198,
    "start_time": "2021-11-08T17:49:39.536Z"
   },
   {
    "duration": 1201,
    "start_time": "2021-11-08T17:52:22.328Z"
   },
   {
    "duration": 176,
    "start_time": "2021-11-08T17:59:01.508Z"
   },
   {
    "duration": 213,
    "start_time": "2021-11-08T17:59:14.805Z"
   },
   {
    "duration": 538,
    "start_time": "2021-11-08T17:59:23.534Z"
   },
   {
    "duration": 136,
    "start_time": "2021-11-08T17:59:24.074Z"
   },
   {
    "duration": 16,
    "start_time": "2021-11-08T17:59:24.212Z"
   },
   {
    "duration": 23,
    "start_time": "2021-11-08T17:59:24.230Z"
   },
   {
    "duration": 4,
    "start_time": "2021-11-08T17:59:24.255Z"
   },
   {
    "duration": 48,
    "start_time": "2021-11-08T17:59:24.260Z"
   },
   {
    "duration": 4,
    "start_time": "2021-11-08T17:59:24.310Z"
   },
   {
    "duration": 23,
    "start_time": "2021-11-08T17:59:24.316Z"
   },
   {
    "duration": 75,
    "start_time": "2021-11-08T17:59:24.341Z"
   },
   {
    "duration": 21,
    "start_time": "2021-11-08T17:59:24.417Z"
   },
   {
    "duration": 70,
    "start_time": "2021-11-08T17:59:24.440Z"
   },
   {
    "duration": 58,
    "start_time": "2021-11-08T17:59:24.511Z"
   },
   {
    "duration": 60,
    "start_time": "2021-11-08T17:59:24.570Z"
   },
   {
    "duration": 43,
    "start_time": "2021-11-08T17:59:24.632Z"
   },
   {
    "duration": 2,
    "start_time": "2021-11-08T17:59:24.677Z"
   },
   {
    "duration": 3,
    "start_time": "2021-11-08T17:59:24.691Z"
   },
   {
    "duration": 7,
    "start_time": "2021-11-08T17:59:24.696Z"
   },
   {
    "duration": 9,
    "start_time": "2021-11-08T17:59:24.704Z"
   },
   {
    "duration": 9,
    "start_time": "2021-11-08T17:59:24.714Z"
   },
   {
    "duration": 5,
    "start_time": "2021-11-08T17:59:24.724Z"
   },
   {
    "duration": 7,
    "start_time": "2021-11-08T17:59:24.730Z"
   },
   {
    "duration": 5,
    "start_time": "2021-11-08T17:59:24.739Z"
   },
   {
    "duration": 4,
    "start_time": "2021-11-08T17:59:24.746Z"
   },
   {
    "duration": 5,
    "start_time": "2021-11-08T17:59:24.751Z"
   },
   {
    "duration": 9,
    "start_time": "2021-11-08T17:59:24.757Z"
   },
   {
    "duration": 11,
    "start_time": "2021-11-08T17:59:24.768Z"
   },
   {
    "duration": 5,
    "start_time": "2021-11-08T17:59:24.781Z"
   },
   {
    "duration": 10,
    "start_time": "2021-11-08T17:59:24.787Z"
   },
   {
    "duration": 7,
    "start_time": "2021-11-08T17:59:24.798Z"
   },
   {
    "duration": 7,
    "start_time": "2021-11-08T17:59:24.807Z"
   },
   {
    "duration": 12,
    "start_time": "2021-11-08T17:59:24.815Z"
   },
   {
    "duration": 17,
    "start_time": "2021-11-08T17:59:24.828Z"
   },
   {
    "duration": 20,
    "start_time": "2021-11-08T17:59:24.846Z"
   },
   {
    "duration": 12,
    "start_time": "2021-11-08T17:59:24.868Z"
   },
   {
    "duration": 26,
    "start_time": "2021-11-08T17:59:24.882Z"
   },
   {
    "duration": 9,
    "start_time": "2021-11-08T17:59:24.910Z"
   },
   {
    "duration": 6,
    "start_time": "2021-11-08T17:59:24.921Z"
   },
   {
    "duration": 14,
    "start_time": "2021-11-08T17:59:24.928Z"
   },
   {
    "duration": 50,
    "start_time": "2021-11-08T17:59:35.801Z"
   },
   {
    "duration": 44,
    "start_time": "2021-11-08T17:59:39.319Z"
   },
   {
    "duration": 44,
    "start_time": "2021-11-08T17:59:50.283Z"
   },
   {
    "duration": 39,
    "start_time": "2021-11-08T18:00:01.048Z"
   },
   {
    "duration": 387,
    "start_time": "2021-11-08T18:00:34.948Z"
   },
   {
    "duration": 40,
    "start_time": "2021-11-08T18:01:07.477Z"
   },
   {
    "duration": 179,
    "start_time": "2021-11-08T18:01:16.993Z"
   },
   {
    "duration": 185,
    "start_time": "2021-11-08T18:02:36.553Z"
   },
   {
    "duration": 565,
    "start_time": "2021-11-08T18:02:46.905Z"
   },
   {
    "duration": 149,
    "start_time": "2021-11-08T18:02:47.475Z"
   },
   {
    "duration": 19,
    "start_time": "2021-11-08T18:02:47.626Z"
   },
   {
    "duration": 25,
    "start_time": "2021-11-08T18:02:47.647Z"
   },
   {
    "duration": 4,
    "start_time": "2021-11-08T18:02:47.674Z"
   },
   {
    "duration": 22,
    "start_time": "2021-11-08T18:02:47.691Z"
   },
   {
    "duration": 8,
    "start_time": "2021-11-08T18:02:47.715Z"
   },
   {
    "duration": 28,
    "start_time": "2021-11-08T18:02:47.724Z"
   },
   {
    "duration": 70,
    "start_time": "2021-11-08T18:02:47.753Z"
   },
   {
    "duration": 20,
    "start_time": "2021-11-08T18:02:47.825Z"
   },
   {
    "duration": 62,
    "start_time": "2021-11-08T18:02:47.846Z"
   },
   {
    "duration": 64,
    "start_time": "2021-11-08T18:02:47.909Z"
   },
   {
    "duration": 59,
    "start_time": "2021-11-08T18:02:47.974Z"
   },
   {
    "duration": 44,
    "start_time": "2021-11-08T18:02:48.034Z"
   },
   {
    "duration": 2,
    "start_time": "2021-11-08T18:02:48.092Z"
   },
   {
    "duration": 9,
    "start_time": "2021-11-08T18:02:48.096Z"
   },
   {
    "duration": 6,
    "start_time": "2021-11-08T18:02:48.106Z"
   },
   {
    "duration": 5,
    "start_time": "2021-11-08T18:02:48.114Z"
   },
   {
    "duration": 10,
    "start_time": "2021-11-08T18:02:48.121Z"
   },
   {
    "duration": 6,
    "start_time": "2021-11-08T18:02:48.133Z"
   },
   {
    "duration": 5,
    "start_time": "2021-11-08T18:02:48.140Z"
   },
   {
    "duration": 3,
    "start_time": "2021-11-08T18:02:48.148Z"
   },
   {
    "duration": 5,
    "start_time": "2021-11-08T18:02:48.153Z"
   },
   {
    "duration": 7,
    "start_time": "2021-11-08T18:02:48.159Z"
   },
   {
    "duration": 5,
    "start_time": "2021-11-08T18:02:48.167Z"
   },
   {
    "duration": 9,
    "start_time": "2021-11-08T18:02:48.173Z"
   },
   {
    "duration": 5,
    "start_time": "2021-11-08T18:02:48.191Z"
   },
   {
    "duration": 14,
    "start_time": "2021-11-08T18:02:48.197Z"
   },
   {
    "duration": 8,
    "start_time": "2021-11-08T18:02:48.212Z"
   },
   {
    "duration": 5,
    "start_time": "2021-11-08T18:02:48.221Z"
   },
   {
    "duration": 8,
    "start_time": "2021-11-08T18:02:48.228Z"
   },
   {
    "duration": 9,
    "start_time": "2021-11-08T18:02:48.237Z"
   },
   {
    "duration": 7,
    "start_time": "2021-11-08T18:02:48.248Z"
   },
   {
    "duration": 6,
    "start_time": "2021-11-08T18:02:48.257Z"
   },
   {
    "duration": 7,
    "start_time": "2021-11-08T18:02:48.265Z"
   },
   {
    "duration": 8,
    "start_time": "2021-11-08T18:02:48.274Z"
   },
   {
    "duration": 5,
    "start_time": "2021-11-08T18:02:48.284Z"
   },
   {
    "duration": 4,
    "start_time": "2021-11-08T18:02:48.291Z"
   },
   {
    "duration": 3,
    "start_time": "2021-11-08T18:17:14.209Z"
   },
   {
    "duration": 8,
    "start_time": "2021-11-08T18:18:06.003Z"
   },
   {
    "duration": 12,
    "start_time": "2021-11-08T18:18:36.726Z"
   },
   {
    "duration": 6,
    "start_time": "2021-11-08T18:19:33.272Z"
   },
   {
    "duration": 2,
    "start_time": "2021-11-08T18:20:06.260Z"
   },
   {
    "duration": 11,
    "start_time": "2021-11-08T18:20:09.669Z"
   },
   {
    "duration": 6,
    "start_time": "2021-11-08T18:20:14.385Z"
   },
   {
    "duration": 2570,
    "start_time": "2021-11-08T18:21:21.701Z"
   },
   {
    "duration": 2510,
    "start_time": "2021-11-08T18:21:25.741Z"
   },
   {
    "duration": 2652,
    "start_time": "2021-11-08T18:21:52.656Z"
   },
   {
    "duration": 2661,
    "start_time": "2021-11-08T18:22:08.259Z"
   },
   {
    "duration": 3,
    "start_time": "2021-11-08T18:22:22.892Z"
   },
   {
    "duration": 2511,
    "start_time": "2021-11-08T18:22:25.067Z"
   },
   {
    "duration": 3,
    "start_time": "2021-11-08T18:31:31.492Z"
   },
   {
    "duration": 2494,
    "start_time": "2021-11-08T18:31:35.858Z"
   },
   {
    "duration": 6,
    "start_time": "2021-11-08T18:33:22.321Z"
   },
   {
    "duration": 2790,
    "start_time": "2021-11-08T18:33:24.795Z"
   },
   {
    "duration": 2239,
    "start_time": "2021-11-08T18:34:00.681Z"
   },
   {
    "duration": 3,
    "start_time": "2021-11-08T18:41:32.787Z"
   },
   {
    "duration": 2407,
    "start_time": "2021-11-08T18:41:36.976Z"
   },
   {
    "duration": 2365,
    "start_time": "2021-11-08T18:41:50.216Z"
   },
   {
    "duration": 2485,
    "start_time": "2021-11-08T18:43:14.526Z"
   },
   {
    "duration": 549,
    "start_time": "2021-11-08T18:43:36.819Z"
   },
   {
    "duration": 137,
    "start_time": "2021-11-08T18:43:37.369Z"
   },
   {
    "duration": 17,
    "start_time": "2021-11-08T18:43:37.508Z"
   },
   {
    "duration": 24,
    "start_time": "2021-11-08T18:43:37.527Z"
   },
   {
    "duration": 3,
    "start_time": "2021-11-08T18:43:37.553Z"
   },
   {
    "duration": 43,
    "start_time": "2021-11-08T18:43:37.557Z"
   },
   {
    "duration": 3,
    "start_time": "2021-11-08T18:43:37.602Z"
   },
   {
    "duration": 25,
    "start_time": "2021-11-08T18:43:37.608Z"
   },
   {
    "duration": 71,
    "start_time": "2021-11-08T18:43:37.635Z"
   },
   {
    "duration": 20,
    "start_time": "2021-11-08T18:43:37.707Z"
   },
   {
    "duration": 67,
    "start_time": "2021-11-08T18:43:37.729Z"
   },
   {
    "duration": 64,
    "start_time": "2021-11-08T18:43:37.797Z"
   },
   {
    "duration": 57,
    "start_time": "2021-11-08T18:43:37.862Z"
   },
   {
    "duration": 44,
    "start_time": "2021-11-08T18:43:37.920Z"
   },
   {
    "duration": 2,
    "start_time": "2021-11-08T18:43:37.966Z"
   },
   {
    "duration": 52,
    "start_time": "2021-11-08T18:43:37.970Z"
   },
   {
    "duration": 6,
    "start_time": "2021-11-08T18:43:38.024Z"
   },
   {
    "duration": 11,
    "start_time": "2021-11-08T18:43:38.031Z"
   },
   {
    "duration": 17,
    "start_time": "2021-11-08T18:43:38.043Z"
   },
   {
    "duration": 18,
    "start_time": "2021-11-08T18:43:38.061Z"
   },
   {
    "duration": 29,
    "start_time": "2021-11-08T18:43:38.080Z"
   },
   {
    "duration": 19,
    "start_time": "2021-11-08T18:43:38.111Z"
   },
   {
    "duration": 15,
    "start_time": "2021-11-08T18:43:38.134Z"
   },
   {
    "duration": 20,
    "start_time": "2021-11-08T18:43:38.151Z"
   },
   {
    "duration": 22,
    "start_time": "2021-11-08T18:43:38.172Z"
   },
   {
    "duration": 19,
    "start_time": "2021-11-08T18:43:38.195Z"
   },
   {
    "duration": 13,
    "start_time": "2021-11-08T18:43:38.216Z"
   },
   {
    "duration": 6,
    "start_time": "2021-11-08T18:43:38.230Z"
   },
   {
    "duration": 5,
    "start_time": "2021-11-08T18:43:38.237Z"
   },
   {
    "duration": 7,
    "start_time": "2021-11-08T18:43:38.243Z"
   },
   {
    "duration": 13,
    "start_time": "2021-11-08T18:43:38.251Z"
   },
   {
    "duration": 5,
    "start_time": "2021-11-08T18:43:38.265Z"
   },
   {
    "duration": 11,
    "start_time": "2021-11-08T18:43:38.272Z"
   },
   {
    "duration": 7,
    "start_time": "2021-11-08T18:43:38.284Z"
   },
   {
    "duration": 6,
    "start_time": "2021-11-08T18:43:38.292Z"
   },
   {
    "duration": 4,
    "start_time": "2021-11-08T18:43:38.300Z"
   },
   {
    "duration": 18,
    "start_time": "2021-11-08T18:43:38.305Z"
   },
   {
    "duration": 10,
    "start_time": "2021-11-08T18:43:38.325Z"
   },
   {
    "duration": 3,
    "start_time": "2021-11-08T18:44:04.906Z"
   },
   {
    "duration": 36,
    "start_time": "2021-11-08T18:44:07.746Z"
   },
   {
    "duration": 6,
    "start_time": "2021-11-08T18:44:24.083Z"
   },
   {
    "duration": 3,
    "start_time": "2021-11-08T18:45:52.271Z"
   },
   {
    "duration": 37,
    "start_time": "2021-11-08T18:45:54.593Z"
   },
   {
    "duration": 7,
    "start_time": "2021-11-08T18:45:58.329Z"
   },
   {
    "duration": 7,
    "start_time": "2021-11-08T18:49:30.059Z"
   },
   {
    "duration": 8,
    "start_time": "2021-11-08T18:51:16.713Z"
   },
   {
    "duration": 8,
    "start_time": "2021-11-08T18:51:28.904Z"
   },
   {
    "duration": 10,
    "start_time": "2021-11-08T18:51:46.377Z"
   },
   {
    "duration": 237,
    "start_time": "2021-11-08T18:52:16.775Z"
   },
   {
    "duration": 11,
    "start_time": "2021-11-08T18:52:26.343Z"
   },
   {
    "duration": 10,
    "start_time": "2021-11-08T18:52:35.121Z"
   },
   {
    "duration": 10,
    "start_time": "2021-11-08T18:53:52.410Z"
   },
   {
    "duration": 41,
    "start_time": "2021-11-08T18:56:07.635Z"
   },
   {
    "duration": 10,
    "start_time": "2021-11-08T19:00:09.940Z"
   },
   {
    "duration": 11,
    "start_time": "2021-11-08T19:00:49.915Z"
   },
   {
    "duration": 4,
    "start_time": "2021-11-08T19:01:36.354Z"
   },
   {
    "duration": 18,
    "start_time": "2021-11-08T19:01:46.274Z"
   },
   {
    "duration": 5,
    "start_time": "2021-11-08T19:01:49.601Z"
   },
   {
    "duration": 30,
    "start_time": "2021-11-08T19:01:54.558Z"
   },
   {
    "duration": 552,
    "start_time": "2021-11-08T19:02:13.440Z"
   },
   {
    "duration": 131,
    "start_time": "2021-11-08T19:02:13.994Z"
   },
   {
    "duration": 15,
    "start_time": "2021-11-08T19:02:14.128Z"
   },
   {
    "duration": 23,
    "start_time": "2021-11-08T19:02:14.145Z"
   },
   {
    "duration": 24,
    "start_time": "2021-11-08T19:02:14.169Z"
   },
   {
    "duration": 22,
    "start_time": "2021-11-08T19:02:14.194Z"
   },
   {
    "duration": 11,
    "start_time": "2021-11-08T19:02:14.218Z"
   },
   {
    "duration": 27,
    "start_time": "2021-11-08T19:02:14.231Z"
   },
   {
    "duration": 79,
    "start_time": "2021-11-08T19:02:14.260Z"
   },
   {
    "duration": 22,
    "start_time": "2021-11-08T19:02:14.341Z"
   },
   {
    "duration": 73,
    "start_time": "2021-11-08T19:02:14.364Z"
   },
   {
    "duration": 79,
    "start_time": "2021-11-08T19:02:14.439Z"
   },
   {
    "duration": 48,
    "start_time": "2021-11-08T19:02:14.519Z"
   },
   {
    "duration": 63,
    "start_time": "2021-11-08T19:02:14.569Z"
   },
   {
    "duration": 2,
    "start_time": "2021-11-08T19:02:14.634Z"
   },
   {
    "duration": 44,
    "start_time": "2021-11-08T19:02:14.638Z"
   },
   {
    "duration": 5,
    "start_time": "2021-11-08T19:02:14.691Z"
   },
   {
    "duration": 37,
    "start_time": "2021-11-08T19:02:14.697Z"
   },
   {
    "duration": 11,
    "start_time": "2021-11-08T19:02:14.735Z"
   },
   {
    "duration": 3,
    "start_time": "2021-11-08T19:02:14.747Z"
   },
   {
    "duration": 8,
    "start_time": "2021-11-08T19:02:14.752Z"
   },
   {
    "duration": 30,
    "start_time": "2021-11-08T19:02:14.762Z"
   },
   {
    "duration": 2,
    "start_time": "2021-11-08T19:02:14.796Z"
   },
   {
    "duration": 5,
    "start_time": "2021-11-08T19:02:14.800Z"
   },
   {
    "duration": 11,
    "start_time": "2021-11-08T19:02:14.806Z"
   },
   {
    "duration": 7,
    "start_time": "2021-11-08T19:02:14.819Z"
   },
   {
    "duration": 6,
    "start_time": "2021-11-08T19:02:14.828Z"
   },
   {
    "duration": 7,
    "start_time": "2021-11-08T19:02:14.835Z"
   },
   {
    "duration": 5,
    "start_time": "2021-11-08T19:02:14.844Z"
   },
   {
    "duration": 6,
    "start_time": "2021-11-08T19:02:14.851Z"
   },
   {
    "duration": 6,
    "start_time": "2021-11-08T19:02:14.859Z"
   },
   {
    "duration": 5,
    "start_time": "2021-11-08T19:02:14.867Z"
   },
   {
    "duration": 6,
    "start_time": "2021-11-08T19:02:14.874Z"
   },
   {
    "duration": 12,
    "start_time": "2021-11-08T19:02:14.882Z"
   },
   {
    "duration": 6,
    "start_time": "2021-11-08T19:02:14.895Z"
   },
   {
    "duration": 4,
    "start_time": "2021-11-08T19:02:14.903Z"
   },
   {
    "duration": 5,
    "start_time": "2021-11-08T19:02:14.909Z"
   },
   {
    "duration": 4,
    "start_time": "2021-11-08T19:02:14.916Z"
   },
   {
    "duration": 76,
    "start_time": "2021-11-08T19:02:46.299Z"
   },
   {
    "duration": 70,
    "start_time": "2021-11-08T19:02:59.714Z"
   },
   {
    "duration": 36,
    "start_time": "2021-11-08T19:03:27.998Z"
   },
   {
    "duration": 52,
    "start_time": "2021-11-08T19:03:38.124Z"
   },
   {
    "duration": 41,
    "start_time": "2021-11-08T19:03:50.605Z"
   },
   {
    "duration": 42,
    "start_time": "2021-11-08T19:04:22.285Z"
   },
   {
    "duration": 41,
    "start_time": "2021-11-08T19:04:50.441Z"
   },
   {
    "duration": 61,
    "start_time": "2021-11-08T19:20:47.481Z"
   },
   {
    "duration": 60,
    "start_time": "2021-11-08T19:21:04.695Z"
   },
   {
    "duration": 4,
    "start_time": "2021-11-08T19:24:37.239Z"
   },
   {
    "duration": 24,
    "start_time": "2021-11-08T19:25:55.555Z"
   },
   {
    "duration": 24,
    "start_time": "2021-11-08T19:26:29.353Z"
   },
   {
    "duration": 25,
    "start_time": "2021-11-08T19:27:05.278Z"
   },
   {
    "duration": 21,
    "start_time": "2021-11-08T19:27:38.424Z"
   },
   {
    "duration": 18,
    "start_time": "2021-11-08T19:27:55.973Z"
   },
   {
    "duration": 21,
    "start_time": "2021-11-08T19:28:12.927Z"
   },
   {
    "duration": 4,
    "start_time": "2021-11-08T19:30:07.038Z"
   },
   {
    "duration": 16,
    "start_time": "2021-11-08T19:30:10.207Z"
   },
   {
    "duration": 15,
    "start_time": "2021-11-08T19:30:12.975Z"
   },
   {
    "duration": 14,
    "start_time": "2021-11-08T19:30:16.532Z"
   },
   {
    "duration": 14,
    "start_time": "2021-11-08T19:30:19.039Z"
   },
   {
    "duration": 16,
    "start_time": "2021-11-08T19:30:21.972Z"
   },
   {
    "duration": 16,
    "start_time": "2021-11-08T19:30:26.758Z"
   },
   {
    "duration": 223,
    "start_time": "2021-11-08T19:35:32.637Z"
   },
   {
    "duration": 254,
    "start_time": "2021-11-08T19:36:36.804Z"
   },
   {
    "duration": 251,
    "start_time": "2021-11-08T19:37:10.790Z"
   },
   {
    "duration": 172,
    "start_time": "2021-11-08T19:42:08.560Z"
   },
   {
    "duration": 182,
    "start_time": "2021-11-08T19:42:35.281Z"
   },
   {
    "duration": 185,
    "start_time": "2021-11-08T19:43:33.798Z"
   },
   {
    "duration": 179,
    "start_time": "2021-11-08T19:44:35.498Z"
   },
   {
    "duration": 178,
    "start_time": "2021-11-08T19:45:19.361Z"
   },
   {
    "duration": 586,
    "start_time": "2021-11-08T19:45:28.375Z"
   },
   {
    "duration": 142,
    "start_time": "2021-11-08T19:45:28.963Z"
   },
   {
    "duration": 16,
    "start_time": "2021-11-08T19:45:29.107Z"
   },
   {
    "duration": 25,
    "start_time": "2021-11-08T19:45:29.125Z"
   },
   {
    "duration": 5,
    "start_time": "2021-11-08T19:45:29.152Z"
   },
   {
    "duration": 43,
    "start_time": "2021-11-08T19:45:29.159Z"
   },
   {
    "duration": 4,
    "start_time": "2021-11-08T19:45:29.203Z"
   },
   {
    "duration": 24,
    "start_time": "2021-11-08T19:45:29.210Z"
   },
   {
    "duration": 80,
    "start_time": "2021-11-08T19:45:29.236Z"
   },
   {
    "duration": 21,
    "start_time": "2021-11-08T19:45:29.318Z"
   },
   {
    "duration": 68,
    "start_time": "2021-11-08T19:45:29.341Z"
   },
   {
    "duration": 70,
    "start_time": "2021-11-08T19:45:29.410Z"
   },
   {
    "duration": 50,
    "start_time": "2021-11-08T19:45:29.492Z"
   },
   {
    "duration": 58,
    "start_time": "2021-11-08T19:45:29.544Z"
   },
   {
    "duration": 2,
    "start_time": "2021-11-08T19:45:29.604Z"
   },
   {
    "duration": 41,
    "start_time": "2021-11-08T19:45:29.608Z"
   },
   {
    "duration": 6,
    "start_time": "2021-11-08T19:45:29.651Z"
   },
   {
    "duration": 65,
    "start_time": "2021-11-08T19:45:29.658Z"
   },
   {
    "duration": 38,
    "start_time": "2021-11-08T19:45:29.725Z"
   },
   {
    "duration": 3,
    "start_time": "2021-11-08T19:45:29.765Z"
   },
   {
    "duration": 35,
    "start_time": "2021-11-08T19:45:29.769Z"
   },
   {
    "duration": 14,
    "start_time": "2021-11-08T19:45:29.806Z"
   },
   {
    "duration": 15,
    "start_time": "2021-11-08T19:45:29.824Z"
   },
   {
    "duration": 14,
    "start_time": "2021-11-08T19:45:29.841Z"
   },
   {
    "duration": 46,
    "start_time": "2021-11-08T19:45:29.857Z"
   },
   {
    "duration": 14,
    "start_time": "2021-11-08T19:45:29.905Z"
   },
   {
    "duration": 283,
    "start_time": "2021-11-08T19:45:29.921Z"
   },
   {
    "duration": -476,
    "start_time": "2021-11-08T19:45:30.682Z"
   },
   {
    "duration": -499,
    "start_time": "2021-11-08T19:45:30.706Z"
   },
   {
    "duration": -503,
    "start_time": "2021-11-08T19:45:30.712Z"
   },
   {
    "duration": -507,
    "start_time": "2021-11-08T19:45:30.717Z"
   },
   {
    "duration": -510,
    "start_time": "2021-11-08T19:45:30.722Z"
   },
   {
    "duration": -514,
    "start_time": "2021-11-08T19:45:30.727Z"
   },
   {
    "duration": -518,
    "start_time": "2021-11-08T19:45:30.733Z"
   },
   {
    "duration": -523,
    "start_time": "2021-11-08T19:45:30.739Z"
   },
   {
    "duration": -526,
    "start_time": "2021-11-08T19:45:30.744Z"
   },
   {
    "duration": -530,
    "start_time": "2021-11-08T19:45:30.749Z"
   },
   {
    "duration": -545,
    "start_time": "2021-11-08T19:45:30.765Z"
   },
   {
    "duration": 174,
    "start_time": "2021-11-08T19:45:43.283Z"
   },
   {
    "duration": 202,
    "start_time": "2021-11-08T19:46:34.800Z"
   },
   {
    "duration": 188,
    "start_time": "2021-11-08T19:47:50.169Z"
   },
   {
    "duration": 186,
    "start_time": "2021-11-08T19:48:54.007Z"
   },
   {
    "duration": 188,
    "start_time": "2021-11-08T19:49:22.493Z"
   },
   {
    "duration": 170,
    "start_time": "2021-11-08T19:52:13.145Z"
   },
   {
    "duration": 5,
    "start_time": "2021-11-08T19:52:38.725Z"
   },
   {
    "duration": 9,
    "start_time": "2021-11-08T19:52:56.715Z"
   },
   {
    "duration": 24,
    "start_time": "2021-11-08T20:01:23.976Z"
   },
   {
    "duration": 11,
    "start_time": "2021-11-08T20:01:45.967Z"
   },
   {
    "duration": 10,
    "start_time": "2021-11-08T20:02:18.907Z"
   },
   {
    "duration": 59,
    "start_time": "2021-11-08T20:11:35.066Z"
   },
   {
    "duration": 183,
    "start_time": "2021-11-08T20:12:21.239Z"
   },
   {
    "duration": 181,
    "start_time": "2021-11-08T20:12:53.014Z"
   },
   {
    "duration": 4,
    "start_time": "2021-11-08T20:13:17.871Z"
   },
   {
    "duration": 4,
    "start_time": "2021-11-08T20:13:27.431Z"
   },
   {
    "duration": 4,
    "start_time": "2021-11-08T20:16:29.382Z"
   },
   {
    "duration": 4,
    "start_time": "2021-11-08T20:16:33.645Z"
   },
   {
    "duration": 4,
    "start_time": "2021-11-08T20:16:52.753Z"
   },
   {
    "duration": 177,
    "start_time": "2021-11-08T20:19:23.400Z"
   },
   {
    "duration": 4,
    "start_time": "2021-11-08T20:19:37.404Z"
   },
   {
    "duration": 4,
    "start_time": "2021-11-08T20:19:58.388Z"
   },
   {
    "duration": 19,
    "start_time": "2021-11-08T20:21:42.838Z"
   },
   {
    "duration": 13,
    "start_time": "2021-11-08T20:22:13.096Z"
   },
   {
    "duration": 20,
    "start_time": "2021-11-08T20:23:11.860Z"
   },
   {
    "duration": 14,
    "start_time": "2021-11-08T20:23:42.946Z"
   },
   {
    "duration": 5,
    "start_time": "2021-11-08T20:25:45.640Z"
   },
   {
    "duration": 576,
    "start_time": "2021-11-08T20:25:53.369Z"
   },
   {
    "duration": 148,
    "start_time": "2021-11-08T20:25:53.947Z"
   },
   {
    "duration": 16,
    "start_time": "2021-11-08T20:25:54.097Z"
   },
   {
    "duration": 25,
    "start_time": "2021-11-08T20:25:54.115Z"
   },
   {
    "duration": 4,
    "start_time": "2021-11-08T20:25:54.142Z"
   },
   {
    "duration": 49,
    "start_time": "2021-11-08T20:25:54.147Z"
   },
   {
    "duration": 4,
    "start_time": "2021-11-08T20:25:54.197Z"
   },
   {
    "duration": 22,
    "start_time": "2021-11-08T20:25:54.204Z"
   },
   {
    "duration": 81,
    "start_time": "2021-11-08T20:25:54.228Z"
   },
   {
    "duration": 20,
    "start_time": "2021-11-08T20:25:54.311Z"
   },
   {
    "duration": 67,
    "start_time": "2021-11-08T20:25:54.332Z"
   },
   {
    "duration": 62,
    "start_time": "2021-11-08T20:25:54.401Z"
   },
   {
    "duration": 58,
    "start_time": "2021-11-08T20:25:54.465Z"
   },
   {
    "duration": 45,
    "start_time": "2021-11-08T20:25:54.525Z"
   },
   {
    "duration": 3,
    "start_time": "2021-11-08T20:25:54.571Z"
   },
   {
    "duration": 52,
    "start_time": "2021-11-08T20:25:54.575Z"
   },
   {
    "duration": 5,
    "start_time": "2021-11-08T20:25:54.629Z"
   },
   {
    "duration": 39,
    "start_time": "2021-11-08T20:25:54.636Z"
   },
   {
    "duration": 36,
    "start_time": "2021-11-08T20:25:54.691Z"
   },
   {
    "duration": 3,
    "start_time": "2021-11-08T20:25:54.728Z"
   },
   {
    "duration": 24,
    "start_time": "2021-11-08T20:25:54.732Z"
   },
   {
    "duration": 12,
    "start_time": "2021-11-08T20:25:54.757Z"
   },
   {
    "duration": 29,
    "start_time": "2021-11-08T20:25:54.772Z"
   },
   {
    "duration": 12,
    "start_time": "2021-11-08T20:25:54.803Z"
   },
   {
    "duration": 14,
    "start_time": "2021-11-08T20:25:54.816Z"
   },
   {
    "duration": 12,
    "start_time": "2021-11-08T20:25:54.832Z"
   },
   {
    "duration": 7,
    "start_time": "2021-11-08T20:25:54.845Z"
   },
   {
    "duration": 43,
    "start_time": "2021-11-08T20:25:54.854Z"
   },
   {
    "duration": 8,
    "start_time": "2021-11-08T20:25:54.899Z"
   },
   {
    "duration": 4,
    "start_time": "2021-11-08T20:25:54.908Z"
   },
   {
    "duration": 25,
    "start_time": "2021-11-08T20:25:54.913Z"
   },
   {
    "duration": 12,
    "start_time": "2021-11-08T20:25:54.939Z"
   },
   {
    "duration": 39,
    "start_time": "2021-11-08T20:25:54.952Z"
   },
   {
    "duration": 13,
    "start_time": "2021-11-08T20:25:54.993Z"
   },
   {
    "duration": 2,
    "start_time": "2021-11-08T20:25:55.008Z"
   },
   {
    "duration": 5,
    "start_time": "2021-11-08T20:25:55.011Z"
   },
   {
    "duration": 6,
    "start_time": "2021-11-08T20:25:55.018Z"
   },
   {
    "duration": 5,
    "start_time": "2021-11-08T20:25:55.025Z"
   },
   {
    "duration": 4,
    "start_time": "2021-11-08T20:26:15.547Z"
   },
   {
    "duration": 568,
    "start_time": "2021-11-08T20:26:22.476Z"
   },
   {
    "duration": 136,
    "start_time": "2021-11-08T20:26:23.046Z"
   },
   {
    "duration": 20,
    "start_time": "2021-11-08T20:26:23.184Z"
   },
   {
    "duration": 25,
    "start_time": "2021-11-08T20:26:23.206Z"
   },
   {
    "duration": 6,
    "start_time": "2021-11-08T20:26:23.233Z"
   },
   {
    "duration": 35,
    "start_time": "2021-11-08T20:26:23.240Z"
   },
   {
    "duration": 14,
    "start_time": "2021-11-08T20:26:23.277Z"
   },
   {
    "duration": 22,
    "start_time": "2021-11-08T20:26:23.294Z"
   },
   {
    "duration": 71,
    "start_time": "2021-11-08T20:26:23.317Z"
   },
   {
    "duration": 21,
    "start_time": "2021-11-08T20:26:23.389Z"
   },
   {
    "duration": 55,
    "start_time": "2021-11-08T20:26:23.411Z"
   },
   {
    "duration": 85,
    "start_time": "2021-11-08T20:26:23.467Z"
   },
   {
    "duration": 56,
    "start_time": "2021-11-08T20:26:23.553Z"
   },
   {
    "duration": 46,
    "start_time": "2021-11-08T20:26:23.611Z"
   },
   {
    "duration": 3,
    "start_time": "2021-11-08T20:26:23.659Z"
   },
   {
    "duration": 59,
    "start_time": "2021-11-08T20:26:23.663Z"
   },
   {
    "duration": 6,
    "start_time": "2021-11-08T20:26:23.723Z"
   },
   {
    "duration": 38,
    "start_time": "2021-11-08T20:26:23.731Z"
   },
   {
    "duration": 51,
    "start_time": "2021-11-08T20:26:23.771Z"
   },
   {
    "duration": 3,
    "start_time": "2021-11-08T20:26:23.824Z"
   },
   {
    "duration": 23,
    "start_time": "2021-11-08T20:26:23.828Z"
   },
   {
    "duration": 13,
    "start_time": "2021-11-08T20:26:23.852Z"
   },
   {
    "duration": 32,
    "start_time": "2021-11-08T20:26:23.869Z"
   },
   {
    "duration": 13,
    "start_time": "2021-11-08T20:26:23.904Z"
   },
   {
    "duration": 17,
    "start_time": "2021-11-08T20:26:23.919Z"
   },
   {
    "duration": 15,
    "start_time": "2021-11-08T20:26:23.938Z"
   },
   {
    "duration": 42,
    "start_time": "2021-11-08T20:26:23.955Z"
   },
   {
    "duration": 14,
    "start_time": "2021-11-08T20:26:23.999Z"
   },
   {
    "duration": 11,
    "start_time": "2021-11-08T20:26:24.014Z"
   },
   {
    "duration": 5,
    "start_time": "2021-11-08T20:26:24.026Z"
   },
   {
    "duration": 25,
    "start_time": "2021-11-08T20:26:24.033Z"
   },
   {
    "duration": 44,
    "start_time": "2021-11-08T20:26:24.059Z"
   },
   {
    "duration": 19,
    "start_time": "2021-11-08T20:26:24.105Z"
   },
   {
    "duration": 13,
    "start_time": "2021-11-08T20:26:24.125Z"
   },
   {
    "duration": 2,
    "start_time": "2021-11-08T20:26:24.139Z"
   },
   {
    "duration": 8,
    "start_time": "2021-11-08T20:26:24.143Z"
   },
   {
    "duration": 6,
    "start_time": "2021-11-08T20:26:24.153Z"
   },
   {
    "duration": 6,
    "start_time": "2021-11-08T20:26:24.160Z"
   },
   {
    "duration": 266,
    "start_time": "2021-11-08T20:30:27.205Z"
   },
   {
    "duration": 198,
    "start_time": "2021-11-08T20:32:16.022Z"
   },
   {
    "duration": 557,
    "start_time": "2021-11-08T20:33:51.612Z"
   },
   {
    "duration": 136,
    "start_time": "2021-11-08T20:33:52.171Z"
   },
   {
    "duration": 17,
    "start_time": "2021-11-08T20:33:52.309Z"
   },
   {
    "duration": 33,
    "start_time": "2021-11-08T20:33:52.328Z"
   },
   {
    "duration": 5,
    "start_time": "2021-11-08T20:33:52.363Z"
   },
   {
    "duration": 34,
    "start_time": "2021-11-08T20:33:52.369Z"
   },
   {
    "duration": 4,
    "start_time": "2021-11-08T20:33:52.405Z"
   },
   {
    "duration": 28,
    "start_time": "2021-11-08T20:33:52.411Z"
   },
   {
    "duration": 69,
    "start_time": "2021-11-08T20:33:52.441Z"
   },
   {
    "duration": 20,
    "start_time": "2021-11-08T20:33:52.512Z"
   },
   {
    "duration": 67,
    "start_time": "2021-11-08T20:33:52.534Z"
   },
   {
    "duration": 61,
    "start_time": "2021-11-08T20:33:52.603Z"
   },
   {
    "duration": 66,
    "start_time": "2021-11-08T20:33:52.666Z"
   },
   {
    "duration": 57,
    "start_time": "2021-11-08T20:33:52.733Z"
   },
   {
    "duration": 4,
    "start_time": "2021-11-08T20:33:52.792Z"
   },
   {
    "duration": 48,
    "start_time": "2021-11-08T20:33:52.797Z"
   },
   {
    "duration": 6,
    "start_time": "2021-11-08T20:33:52.846Z"
   },
   {
    "duration": 53,
    "start_time": "2021-11-08T20:33:52.853Z"
   },
   {
    "duration": 39,
    "start_time": "2021-11-08T20:33:52.908Z"
   },
   {
    "duration": 3,
    "start_time": "2021-11-08T20:33:52.949Z"
   },
   {
    "duration": 31,
    "start_time": "2021-11-08T20:33:52.954Z"
   },
   {
    "duration": 27,
    "start_time": "2021-11-08T20:33:52.987Z"
   },
   {
    "duration": 30,
    "start_time": "2021-11-08T20:33:53.017Z"
   },
   {
    "duration": 32,
    "start_time": "2021-11-08T20:33:53.049Z"
   },
   {
    "duration": 23,
    "start_time": "2021-11-08T20:33:53.083Z"
   },
   {
    "duration": 14,
    "start_time": "2021-11-08T20:33:53.108Z"
   },
   {
    "duration": 11,
    "start_time": "2021-11-08T20:33:53.124Z"
   },
   {
    "duration": 27,
    "start_time": "2021-11-08T20:33:53.137Z"
   },
   {
    "duration": 15,
    "start_time": "2021-11-08T20:33:53.166Z"
   },
   {
    "duration": 24,
    "start_time": "2021-11-08T20:33:53.183Z"
   },
   {
    "duration": 25,
    "start_time": "2021-11-08T20:33:53.209Z"
   },
   {
    "duration": 14,
    "start_time": "2021-11-08T20:33:53.236Z"
   },
   {
    "duration": 20,
    "start_time": "2021-11-08T20:33:53.252Z"
   },
   {
    "duration": 12,
    "start_time": "2021-11-08T20:33:53.274Z"
   },
   {
    "duration": 289,
    "start_time": "2021-11-08T20:33:53.288Z"
   },
   {
    "duration": -501,
    "start_time": "2021-11-08T20:33:54.080Z"
   },
   {
    "duration": -514,
    "start_time": "2021-11-08T20:33:54.094Z"
   },
   {
    "duration": -520,
    "start_time": "2021-11-08T20:33:54.100Z"
   },
   {
    "duration": 208,
    "start_time": "2021-11-08T20:34:00.401Z"
   },
   {
    "duration": 189,
    "start_time": "2021-11-08T20:35:33.057Z"
   },
   {
    "duration": 192,
    "start_time": "2021-11-08T20:36:39.474Z"
   },
   {
    "duration": 6,
    "start_time": "2021-11-08T20:37:09.053Z"
   },
   {
    "duration": 13,
    "start_time": "2021-11-08T20:37:27.919Z"
   },
   {
    "duration": 6,
    "start_time": "2021-11-08T20:39:01.129Z"
   },
   {
    "duration": 12,
    "start_time": "2021-11-08T20:39:17.638Z"
   },
   {
    "duration": 11,
    "start_time": "2021-11-08T20:39:33.749Z"
   },
   {
    "duration": 10,
    "start_time": "2021-11-08T20:48:23.031Z"
   },
   {
    "duration": 10,
    "start_time": "2021-11-08T20:49:10.446Z"
   },
   {
    "duration": 10,
    "start_time": "2021-11-08T20:49:18.972Z"
   },
   {
    "duration": 10,
    "start_time": "2021-11-08T20:49:26.212Z"
   },
   {
    "duration": 10,
    "start_time": "2021-11-08T20:50:15.932Z"
   },
   {
    "duration": 39,
    "start_time": "2021-11-08T20:50:32.843Z"
   },
   {
    "duration": 11,
    "start_time": "2021-11-08T20:50:42.143Z"
   },
   {
    "duration": 3,
    "start_time": "2021-11-08T20:50:59.120Z"
   },
   {
    "duration": 4,
    "start_time": "2021-11-08T20:51:54.190Z"
   },
   {
    "duration": 592,
    "start_time": "2021-11-08T20:52:02.381Z"
   },
   {
    "duration": 145,
    "start_time": "2021-11-08T20:52:02.975Z"
   },
   {
    "duration": 17,
    "start_time": "2021-11-08T20:52:03.124Z"
   },
   {
    "duration": 31,
    "start_time": "2021-11-08T20:52:03.143Z"
   },
   {
    "duration": 17,
    "start_time": "2021-11-08T20:52:03.175Z"
   },
   {
    "duration": 22,
    "start_time": "2021-11-08T20:52:03.194Z"
   },
   {
    "duration": 18,
    "start_time": "2021-11-08T20:52:03.219Z"
   },
   {
    "duration": 23,
    "start_time": "2021-11-08T20:52:03.239Z"
   },
   {
    "duration": 63,
    "start_time": "2021-11-08T20:52:03.264Z"
   },
   {
    "duration": 20,
    "start_time": "2021-11-08T20:52:03.328Z"
   },
   {
    "duration": 66,
    "start_time": "2021-11-08T20:52:03.349Z"
   },
   {
    "duration": 63,
    "start_time": "2021-11-08T20:52:03.416Z"
   },
   {
    "duration": 55,
    "start_time": "2021-11-08T20:52:03.480Z"
   },
   {
    "duration": 62,
    "start_time": "2021-11-08T20:52:03.537Z"
   },
   {
    "duration": 2,
    "start_time": "2021-11-08T20:52:03.601Z"
   },
   {
    "duration": 41,
    "start_time": "2021-11-08T20:52:03.605Z"
   },
   {
    "duration": 6,
    "start_time": "2021-11-08T20:52:03.648Z"
   },
   {
    "duration": 35,
    "start_time": "2021-11-08T20:52:03.655Z"
   },
   {
    "duration": 24,
    "start_time": "2021-11-08T20:52:03.691Z"
   },
   {
    "duration": 17,
    "start_time": "2021-11-08T20:52:03.716Z"
   },
   {
    "duration": 425,
    "start_time": "2021-11-08T20:52:03.735Z"
   },
   {
    "duration": -504,
    "start_time": "2021-11-08T20:52:04.666Z"
   },
   {
    "duration": -513,
    "start_time": "2021-11-08T20:52:04.676Z"
   },
   {
    "duration": -517,
    "start_time": "2021-11-08T20:52:04.681Z"
   },
   {
    "duration": -522,
    "start_time": "2021-11-08T20:52:04.687Z"
   },
   {
    "duration": -527,
    "start_time": "2021-11-08T20:52:04.693Z"
   },
   {
    "duration": -532,
    "start_time": "2021-11-08T20:52:04.699Z"
   },
   {
    "duration": -540,
    "start_time": "2021-11-08T20:52:04.708Z"
   },
   {
    "duration": -545,
    "start_time": "2021-11-08T20:52:04.714Z"
   },
   {
    "duration": -549,
    "start_time": "2021-11-08T20:52:04.719Z"
   },
   {
    "duration": -554,
    "start_time": "2021-11-08T20:52:04.725Z"
   },
   {
    "duration": -558,
    "start_time": "2021-11-08T20:52:04.729Z"
   },
   {
    "duration": -566,
    "start_time": "2021-11-08T20:52:04.738Z"
   },
   {
    "duration": -572,
    "start_time": "2021-11-08T20:52:04.745Z"
   },
   {
    "duration": -589,
    "start_time": "2021-11-08T20:52:04.763Z"
   },
   {
    "duration": -593,
    "start_time": "2021-11-08T20:52:04.768Z"
   },
   {
    "duration": -600,
    "start_time": "2021-11-08T20:52:04.775Z"
   },
   {
    "duration": -604,
    "start_time": "2021-11-08T20:52:04.780Z"
   },
   {
    "duration": 458,
    "start_time": "2021-11-08T20:52:33.676Z"
   },
   {
    "duration": 3,
    "start_time": "2021-11-08T20:52:41.302Z"
   },
   {
    "duration": 17,
    "start_time": "2021-11-08T20:52:44.302Z"
   },
   {
    "duration": 16,
    "start_time": "2021-11-08T20:52:48.022Z"
   },
   {
    "duration": 16,
    "start_time": "2021-11-08T20:52:50.627Z"
   },
   {
    "duration": 15,
    "start_time": "2021-11-08T20:52:54.148Z"
   },
   {
    "duration": 17,
    "start_time": "2021-11-08T20:52:56.378Z"
   },
   {
    "duration": 11,
    "start_time": "2021-11-08T20:53:12.690Z"
   },
   {
    "duration": 163,
    "start_time": "2021-11-08T20:53:57.820Z"
   },
   {
    "duration": 179,
    "start_time": "2021-11-08T20:54:18.079Z"
   },
   {
    "duration": 567,
    "start_time": "2021-11-08T20:54:33.411Z"
   },
   {
    "duration": 138,
    "start_time": "2021-11-08T20:54:33.979Z"
   },
   {
    "duration": 16,
    "start_time": "2021-11-08T20:54:34.119Z"
   },
   {
    "duration": 27,
    "start_time": "2021-11-08T20:54:34.137Z"
   },
   {
    "duration": 5,
    "start_time": "2021-11-08T20:54:34.165Z"
   },
   {
    "duration": 24,
    "start_time": "2021-11-08T20:54:34.192Z"
   },
   {
    "duration": 16,
    "start_time": "2021-11-08T20:54:34.218Z"
   },
   {
    "duration": 31,
    "start_time": "2021-11-08T20:54:34.237Z"
   },
   {
    "duration": 69,
    "start_time": "2021-11-08T20:54:34.270Z"
   },
   {
    "duration": 22,
    "start_time": "2021-11-08T20:54:34.341Z"
   },
   {
    "duration": 62,
    "start_time": "2021-11-08T20:54:34.365Z"
   },
   {
    "duration": 78,
    "start_time": "2021-11-08T20:54:34.429Z"
   },
   {
    "duration": 48,
    "start_time": "2021-11-08T20:54:34.509Z"
   },
   {
    "duration": 59,
    "start_time": "2021-11-08T20:54:34.558Z"
   },
   {
    "duration": 2,
    "start_time": "2021-11-08T20:54:34.619Z"
   },
   {
    "duration": 39,
    "start_time": "2021-11-08T20:54:34.623Z"
   },
   {
    "duration": 5,
    "start_time": "2021-11-08T20:54:34.664Z"
   },
   {
    "duration": 29,
    "start_time": "2021-11-08T20:54:34.671Z"
   },
   {
    "duration": 10,
    "start_time": "2021-11-08T20:54:34.701Z"
   },
   {
    "duration": 3,
    "start_time": "2021-11-08T20:54:34.712Z"
   },
   {
    "duration": 19,
    "start_time": "2021-11-08T20:54:34.717Z"
   },
   {
    "duration": 13,
    "start_time": "2021-11-08T20:54:34.737Z"
   },
   {
    "duration": 46,
    "start_time": "2021-11-08T20:54:34.753Z"
   },
   {
    "duration": 12,
    "start_time": "2021-11-08T20:54:34.801Z"
   },
   {
    "duration": 15,
    "start_time": "2021-11-08T20:54:34.815Z"
   },
   {
    "duration": 12,
    "start_time": "2021-11-08T20:54:34.832Z"
   },
   {
    "duration": 8,
    "start_time": "2021-11-08T20:54:34.846Z"
   },
   {
    "duration": 44,
    "start_time": "2021-11-08T20:54:34.856Z"
   },
   {
    "duration": 10,
    "start_time": "2021-11-08T20:54:34.902Z"
   },
   {
    "duration": 5,
    "start_time": "2021-11-08T20:54:34.913Z"
   },
   {
    "duration": 26,
    "start_time": "2021-11-08T20:54:34.920Z"
   },
   {
    "duration": 14,
    "start_time": "2021-11-08T20:54:34.948Z"
   },
   {
    "duration": 43,
    "start_time": "2021-11-08T20:54:34.964Z"
   },
   {
    "duration": 13,
    "start_time": "2021-11-08T20:54:35.008Z"
   },
   {
    "duration": 32,
    "start_time": "2021-11-08T20:54:35.022Z"
   },
   {
    "duration": 2,
    "start_time": "2021-11-08T20:54:35.056Z"
   },
   {
    "duration": 5,
    "start_time": "2021-11-08T20:54:35.060Z"
   },
   {
    "duration": 3,
    "start_time": "2021-11-08T20:54:35.091Z"
   },
   {
    "duration": 5,
    "start_time": "2021-11-08T20:55:11.763Z"
   },
   {
    "duration": 5,
    "start_time": "2021-11-08T20:56:41.136Z"
   },
   {
    "duration": 4,
    "start_time": "2021-11-08T20:56:57.844Z"
   },
   {
    "duration": 6,
    "start_time": "2021-11-08T20:58:33.761Z"
   },
   {
    "duration": 6,
    "start_time": "2021-11-08T20:58:54.476Z"
   },
   {
    "duration": 5,
    "start_time": "2021-11-08T20:59:40.822Z"
   },
   {
    "duration": 5,
    "start_time": "2021-11-08T21:00:14.003Z"
   },
   {
    "duration": 5,
    "start_time": "2021-11-08T21:00:16.633Z"
   },
   {
    "duration": 13,
    "start_time": "2021-11-08T21:00:30.160Z"
   },
   {
    "duration": 420,
    "start_time": "2021-11-08T21:00:33.861Z"
   },
   {
    "duration": 549,
    "start_time": "2021-11-08T21:00:46.822Z"
   },
   {
    "duration": 146,
    "start_time": "2021-11-08T21:00:47.373Z"
   },
   {
    "duration": 17,
    "start_time": "2021-11-08T21:00:47.521Z"
   },
   {
    "duration": 28,
    "start_time": "2021-11-08T21:00:47.540Z"
   },
   {
    "duration": 3,
    "start_time": "2021-11-08T21:00:47.570Z"
   },
   {
    "duration": 37,
    "start_time": "2021-11-08T21:00:47.575Z"
   },
   {
    "duration": 3,
    "start_time": "2021-11-08T21:00:47.614Z"
   },
   {
    "duration": 24,
    "start_time": "2021-11-08T21:00:47.620Z"
   },
   {
    "duration": 80,
    "start_time": "2021-11-08T21:00:47.646Z"
   },
   {
    "duration": 21,
    "start_time": "2021-11-08T21:00:47.728Z"
   },
   {
    "duration": 74,
    "start_time": "2021-11-08T21:00:47.750Z"
   },
   {
    "duration": 77,
    "start_time": "2021-11-08T21:00:47.826Z"
   },
   {
    "duration": 50,
    "start_time": "2021-11-08T21:00:47.904Z"
   },
   {
    "duration": 61,
    "start_time": "2021-11-08T21:00:47.956Z"
   },
   {
    "duration": 2,
    "start_time": "2021-11-08T21:00:48.019Z"
   },
   {
    "duration": 41,
    "start_time": "2021-11-08T21:00:48.023Z"
   },
   {
    "duration": 6,
    "start_time": "2021-11-08T21:00:48.066Z"
   },
   {
    "duration": 10,
    "start_time": "2021-11-08T21:00:48.092Z"
   },
   {
    "duration": 9,
    "start_time": "2021-11-08T21:00:48.103Z"
   },
   {
    "duration": 3,
    "start_time": "2021-11-08T21:00:48.113Z"
   },
   {
    "duration": 21,
    "start_time": "2021-11-08T21:00:48.118Z"
   },
   {
    "duration": 13,
    "start_time": "2021-11-08T21:00:48.140Z"
   },
   {
    "duration": 47,
    "start_time": "2021-11-08T21:00:48.156Z"
   },
   {
    "duration": 23,
    "start_time": "2021-11-08T21:00:48.205Z"
   },
   {
    "duration": 18,
    "start_time": "2021-11-08T21:00:48.230Z"
   },
   {
    "duration": 13,
    "start_time": "2021-11-08T21:00:48.249Z"
   },
   {
    "duration": 32,
    "start_time": "2021-11-08T21:00:48.264Z"
   },
   {
    "duration": 19,
    "start_time": "2021-11-08T21:00:48.298Z"
   },
   {
    "duration": 15,
    "start_time": "2021-11-08T21:00:48.318Z"
   },
   {
    "duration": 9,
    "start_time": "2021-11-08T21:00:48.334Z"
   },
   {
    "duration": 34,
    "start_time": "2021-11-08T21:00:48.345Z"
   },
   {
    "duration": 14,
    "start_time": "2021-11-08T21:00:48.380Z"
   },
   {
    "duration": 20,
    "start_time": "2021-11-08T21:00:48.396Z"
   },
   {
    "duration": 11,
    "start_time": "2021-11-08T21:00:48.418Z"
   },
   {
    "duration": 12,
    "start_time": "2021-11-08T21:00:48.431Z"
   },
   {
    "duration": 10,
    "start_time": "2021-11-08T21:00:48.444Z"
   },
   {
    "duration": 20,
    "start_time": "2021-11-08T21:00:48.455Z"
   },
   {
    "duration": 14,
    "start_time": "2021-11-08T21:00:48.477Z"
   },
   {
    "duration": 581,
    "start_time": "2021-11-09T11:14:53.586Z"
   },
   {
    "duration": 156,
    "start_time": "2021-11-09T11:14:54.168Z"
   },
   {
    "duration": 15,
    "start_time": "2021-11-09T11:14:54.326Z"
   },
   {
    "duration": 24,
    "start_time": "2021-11-09T11:14:54.343Z"
   },
   {
    "duration": 25,
    "start_time": "2021-11-09T11:14:54.369Z"
   },
   {
    "duration": 35,
    "start_time": "2021-11-09T11:14:54.397Z"
   },
   {
    "duration": 12,
    "start_time": "2021-11-09T11:14:54.433Z"
   },
   {
    "duration": 24,
    "start_time": "2021-11-09T11:14:54.447Z"
   },
   {
    "duration": 80,
    "start_time": "2021-11-09T11:14:54.473Z"
   },
   {
    "duration": 21,
    "start_time": "2021-11-09T11:14:54.555Z"
   },
   {
    "duration": 82,
    "start_time": "2021-11-09T11:14:54.578Z"
   },
   {
    "duration": 91,
    "start_time": "2021-11-09T11:14:54.661Z"
   },
   {
    "duration": 70,
    "start_time": "2021-11-09T11:14:54.753Z"
   },
   {
    "duration": 47,
    "start_time": "2021-11-09T11:14:54.825Z"
   },
   {
    "duration": 2,
    "start_time": "2021-11-09T11:14:54.874Z"
   },
   {
    "duration": 65,
    "start_time": "2021-11-09T11:14:54.878Z"
   },
   {
    "duration": 7,
    "start_time": "2021-11-09T11:14:54.944Z"
   },
   {
    "duration": 13,
    "start_time": "2021-11-09T11:14:54.953Z"
   },
   {
    "duration": 35,
    "start_time": "2021-11-09T11:14:54.967Z"
   },
   {
    "duration": 4,
    "start_time": "2021-11-09T11:14:55.006Z"
   },
   {
    "duration": 26,
    "start_time": "2021-11-09T11:14:55.012Z"
   },
   {
    "duration": 15,
    "start_time": "2021-11-09T11:14:55.039Z"
   },
   {
    "duration": 52,
    "start_time": "2021-11-09T11:14:55.057Z"
   },
   {
    "duration": 17,
    "start_time": "2021-11-09T11:14:55.111Z"
   },
   {
    "duration": 16,
    "start_time": "2021-11-09T11:14:55.130Z"
   },
   {
    "duration": 14,
    "start_time": "2021-11-09T11:14:55.148Z"
   },
   {
    "duration": 37,
    "start_time": "2021-11-09T11:14:55.164Z"
   },
   {
    "duration": 8,
    "start_time": "2021-11-09T11:14:55.216Z"
   },
   {
    "duration": 13,
    "start_time": "2021-11-09T11:14:55.226Z"
   },
   {
    "duration": 8,
    "start_time": "2021-11-09T11:14:55.240Z"
   },
   {
    "duration": 3,
    "start_time": "2021-11-09T11:14:55.250Z"
   },
   {
    "duration": 67,
    "start_time": "2021-11-09T11:14:55.255Z"
   },
   {
    "duration": 12,
    "start_time": "2021-11-09T11:14:55.324Z"
   },
   {
    "duration": 18,
    "start_time": "2021-11-09T11:14:55.338Z"
   },
   {
    "duration": 11,
    "start_time": "2021-11-09T11:14:55.358Z"
   },
   {
    "duration": 43,
    "start_time": "2021-11-09T11:14:55.370Z"
   },
   {
    "duration": 9,
    "start_time": "2021-11-09T11:14:55.416Z"
   },
   {
    "duration": 12,
    "start_time": "2021-11-09T11:14:55.426Z"
   },
   {
    "duration": 5,
    "start_time": "2021-11-09T11:14:55.439Z"
   },
   {
    "duration": 317,
    "start_time": "2021-11-09T12:15:18.990Z"
   },
   {
    "duration": 685,
    "start_time": "2021-11-09T12:15:23.832Z"
   },
   {
    "duration": 163,
    "start_time": "2021-11-09T12:15:26.028Z"
   },
   {
    "duration": 20,
    "start_time": "2021-11-09T12:15:29.248Z"
   },
   {
    "duration": 24,
    "start_time": "2021-11-09T12:23:49.615Z"
   },
   {
    "duration": 4,
    "start_time": "2021-11-09T12:25:34.662Z"
   },
   {
    "duration": 21,
    "start_time": "2021-11-09T12:25:42.726Z"
   },
   {
    "duration": 4,
    "start_time": "2021-11-09T12:26:23.919Z"
   },
   {
    "duration": 4,
    "start_time": "2021-11-09T12:27:14.944Z"
   },
   {
    "duration": 270,
    "start_time": "2021-11-09T12:27:30.295Z"
   },
   {
    "duration": 24,
    "start_time": "2021-11-09T12:27:35.556Z"
   },
   {
    "duration": 251,
    "start_time": "2021-11-09T12:27:39.059Z"
   },
   {
    "duration": 4,
    "start_time": "2021-11-09T12:27:54.361Z"
   },
   {
    "duration": 4,
    "start_time": "2021-11-09T12:28:24.713Z"
   },
   {
    "duration": 98,
    "start_time": "2021-11-09T12:29:49.579Z"
   },
   {
    "duration": 19,
    "start_time": "2021-11-09T12:32:46.155Z"
   },
   {
    "duration": 4,
    "start_time": "2021-11-09T12:32:58.193Z"
   },
   {
    "duration": 23,
    "start_time": "2021-11-09T12:55:08.815Z"
   },
   {
    "duration": 43,
    "start_time": "2021-11-09T12:56:59.781Z"
   },
   {
    "duration": 24,
    "start_time": "2021-11-09T12:57:05.348Z"
   },
   {
    "duration": 62,
    "start_time": "2021-11-09T12:57:43.763Z"
   },
   {
    "duration": 23,
    "start_time": "2021-11-09T12:57:46.654Z"
   },
   {
    "duration": 54,
    "start_time": "2021-11-09T12:58:39.131Z"
   },
   {
    "duration": 65,
    "start_time": "2021-11-09T12:59:00.586Z"
   },
   {
    "duration": 3636,
    "start_time": "2021-11-09T13:00:13.376Z"
   },
   {
    "duration": 3281,
    "start_time": "2021-11-09T13:00:48.366Z"
   },
   {
    "duration": 12,
    "start_time": "2021-11-09T13:01:57.844Z"
   },
   {
    "duration": 11,
    "start_time": "2021-11-09T13:02:15.605Z"
   },
   {
    "duration": 11,
    "start_time": "2021-11-09T13:02:38.511Z"
   },
   {
    "duration": 307,
    "start_time": "2021-11-09T13:02:57.983Z"
   },
   {
    "duration": 647,
    "start_time": "2021-11-09T13:03:14.955Z"
   },
   {
    "duration": 153,
    "start_time": "2021-11-09T13:03:15.604Z"
   },
   {
    "duration": 17,
    "start_time": "2021-11-09T13:03:15.759Z"
   },
   {
    "duration": 29,
    "start_time": "2021-11-09T13:03:15.778Z"
   },
   {
    "duration": 4,
    "start_time": "2021-11-09T13:03:15.809Z"
   },
   {
    "duration": 24,
    "start_time": "2021-11-09T13:03:15.815Z"
   },
   {
    "duration": 26,
    "start_time": "2021-11-09T13:03:15.841Z"
   },
   {
    "duration": 27,
    "start_time": "2021-11-09T13:03:15.869Z"
   },
   {
    "duration": 87,
    "start_time": "2021-11-09T13:03:15.899Z"
   },
   {
    "duration": 23,
    "start_time": "2021-11-09T13:03:15.988Z"
   },
   {
    "duration": 71,
    "start_time": "2021-11-09T13:03:16.013Z"
   },
   {
    "duration": 82,
    "start_time": "2021-11-09T13:03:16.086Z"
   },
   {
    "duration": 53,
    "start_time": "2021-11-09T13:03:16.171Z"
   },
   {
    "duration": 68,
    "start_time": "2021-11-09T13:03:16.226Z"
   },
   {
    "duration": 3,
    "start_time": "2021-11-09T13:03:16.296Z"
   },
   {
    "duration": 41,
    "start_time": "2021-11-09T13:03:16.301Z"
   },
   {
    "duration": 23,
    "start_time": "2021-11-09T13:03:16.345Z"
   },
   {
    "duration": 12,
    "start_time": "2021-11-09T13:03:16.370Z"
   },
   {
    "duration": 13,
    "start_time": "2021-11-09T13:03:16.383Z"
   },
   {
    "duration": 4,
    "start_time": "2021-11-09T13:03:16.398Z"
   },
   {
    "duration": 26,
    "start_time": "2021-11-09T13:03:16.404Z"
   },
   {
    "duration": 45,
    "start_time": "2021-11-09T13:03:16.432Z"
   },
   {
    "duration": 18,
    "start_time": "2021-11-09T13:03:16.481Z"
   },
   {
    "duration": 16,
    "start_time": "2021-11-09T13:03:16.501Z"
   },
   {
    "duration": 54,
    "start_time": "2021-11-09T13:03:16.519Z"
   },
   {
    "duration": 18,
    "start_time": "2021-11-09T13:03:16.575Z"
   },
   {
    "duration": 8,
    "start_time": "2021-11-09T13:03:16.595Z"
   },
   {
    "duration": 11,
    "start_time": "2021-11-09T13:03:16.605Z"
   },
   {
    "duration": 16,
    "start_time": "2021-11-09T13:03:16.617Z"
   },
   {
    "duration": 35,
    "start_time": "2021-11-09T13:03:16.634Z"
   },
   {
    "duration": 9,
    "start_time": "2021-11-09T13:03:16.671Z"
   },
   {
    "duration": 38,
    "start_time": "2021-11-09T13:03:16.682Z"
   },
   {
    "duration": 16,
    "start_time": "2021-11-09T13:03:16.722Z"
   },
   {
    "duration": 39,
    "start_time": "2021-11-09T13:03:16.740Z"
   },
   {
    "duration": 17,
    "start_time": "2021-11-09T13:03:16.782Z"
   },
   {
    "duration": 10,
    "start_time": "2021-11-09T13:03:16.801Z"
   },
   {
    "duration": 6,
    "start_time": "2021-11-09T13:03:16.813Z"
   },
   {
    "duration": 43,
    "start_time": "2021-11-09T13:03:16.821Z"
   },
   {
    "duration": 8,
    "start_time": "2021-11-09T13:03:16.865Z"
   },
   {
    "duration": 34,
    "start_time": "2021-11-09T13:03:42.539Z"
   },
   {
    "duration": 6681,
    "start_time": "2021-11-09T13:10:47.706Z"
   },
   {
    "duration": 77,
    "start_time": "2021-11-09T13:17:27.070Z"
   },
   {
    "duration": 73,
    "start_time": "2021-11-09T13:20:19.448Z"
   },
   {
    "duration": 31,
    "start_time": "2021-11-09T13:20:57.000Z"
   },
   {
    "duration": 65,
    "start_time": "2021-11-09T13:21:03.240Z"
   },
   {
    "duration": 62,
    "start_time": "2021-11-09T13:21:39.060Z"
   },
   {
    "duration": 29,
    "start_time": "2021-11-09T13:25:37.604Z"
   },
   {
    "duration": 32,
    "start_time": "2021-11-09T13:25:48.315Z"
   },
   {
    "duration": 28,
    "start_time": "2021-11-09T13:26:40.593Z"
   },
   {
    "duration": 367,
    "start_time": "2021-11-09T13:27:10.300Z"
   },
   {
    "duration": 282,
    "start_time": "2021-11-09T13:30:15.368Z"
   },
   {
    "duration": 33,
    "start_time": "2021-11-09T13:30:22.243Z"
   },
   {
    "duration": 79,
    "start_time": "2021-11-09T13:33:09.708Z"
   },
   {
    "duration": 90,
    "start_time": "2021-11-09T13:33:17.176Z"
   },
   {
    "duration": 250,
    "start_time": "2021-11-09T13:33:30.224Z"
   },
   {
    "duration": 581,
    "start_time": "2021-11-09T13:33:38.201Z"
   },
   {
    "duration": 145,
    "start_time": "2021-11-09T13:33:38.784Z"
   },
   {
    "duration": 31,
    "start_time": "2021-11-09T13:33:38.933Z"
   },
   {
    "duration": 26,
    "start_time": "2021-11-09T13:33:38.967Z"
   },
   {
    "duration": 7,
    "start_time": "2021-11-09T13:33:38.995Z"
   },
   {
    "duration": 30,
    "start_time": "2021-11-09T13:33:39.004Z"
   },
   {
    "duration": 5,
    "start_time": "2021-11-09T13:33:39.037Z"
   },
   {
    "duration": 25,
    "start_time": "2021-11-09T13:33:39.065Z"
   },
   {
    "duration": 82,
    "start_time": "2021-11-09T13:33:39.092Z"
   },
   {
    "duration": 24,
    "start_time": "2021-11-09T13:33:39.176Z"
   },
   {
    "duration": 70,
    "start_time": "2021-11-09T13:33:39.202Z"
   },
   {
    "duration": 71,
    "start_time": "2021-11-09T13:33:39.274Z"
   },
   {
    "duration": 57,
    "start_time": "2021-11-09T13:33:39.347Z"
   },
   {
    "duration": 60,
    "start_time": "2021-11-09T13:33:39.406Z"
   },
   {
    "duration": 2,
    "start_time": "2021-11-09T13:33:39.468Z"
   },
   {
    "duration": 42,
    "start_time": "2021-11-09T13:33:39.472Z"
   },
   {
    "duration": 6,
    "start_time": "2021-11-09T13:33:39.515Z"
   },
   {
    "duration": 12,
    "start_time": "2021-11-09T13:33:39.523Z"
   },
   {
    "duration": 31,
    "start_time": "2021-11-09T13:33:39.536Z"
   },
   {
    "duration": 3,
    "start_time": "2021-11-09T13:33:39.569Z"
   },
   {
    "duration": 26,
    "start_time": "2021-11-09T13:33:39.574Z"
   },
   {
    "duration": 20,
    "start_time": "2021-11-09T13:33:39.604Z"
   },
   {
    "duration": 38,
    "start_time": "2021-11-09T13:33:39.627Z"
   },
   {
    "duration": 17,
    "start_time": "2021-11-09T13:33:39.667Z"
   },
   {
    "duration": 19,
    "start_time": "2021-11-09T13:33:39.686Z"
   },
   {
    "duration": 18,
    "start_time": "2021-11-09T13:33:39.707Z"
   },
   {
    "duration": 43,
    "start_time": "2021-11-09T13:33:39.727Z"
   },
   {
    "duration": 13,
    "start_time": "2021-11-09T13:33:39.772Z"
   },
   {
    "duration": 16,
    "start_time": "2021-11-09T13:33:39.787Z"
   },
   {
    "duration": 11,
    "start_time": "2021-11-09T13:33:39.805Z"
   },
   {
    "duration": 4,
    "start_time": "2021-11-09T13:33:39.818Z"
   },
   {
    "duration": 48,
    "start_time": "2021-11-09T13:33:39.824Z"
   },
   {
    "duration": 13,
    "start_time": "2021-11-09T13:33:39.874Z"
   },
   {
    "duration": 24,
    "start_time": "2021-11-09T13:33:39.889Z"
   },
   {
    "duration": 12,
    "start_time": "2021-11-09T13:33:39.915Z"
   },
   {
    "duration": 36,
    "start_time": "2021-11-09T13:33:39.929Z"
   },
   {
    "duration": 4,
    "start_time": "2021-11-09T13:33:39.967Z"
   },
   {
    "duration": 14,
    "start_time": "2021-11-09T13:33:39.972Z"
   },
   {
    "duration": 10,
    "start_time": "2021-11-09T13:33:39.987Z"
   },
   {
    "duration": 80,
    "start_time": "2021-11-09T13:33:55.981Z"
   },
   {
    "duration": 33,
    "start_time": "2021-11-09T13:34:20.095Z"
   },
   {
    "duration": 43,
    "start_time": "2021-11-09T13:34:41.734Z"
   },
   {
    "duration": 5,
    "start_time": "2021-11-09T13:59:01.061Z"
   },
   {
    "duration": 18,
    "start_time": "2021-11-09T13:59:49.935Z"
   },
   {
    "duration": 31,
    "start_time": "2021-11-09T14:00:21.337Z"
   },
   {
    "duration": 7,
    "start_time": "2021-11-09T14:00:25.611Z"
   },
   {
    "duration": 12,
    "start_time": "2021-11-09T14:01:57.131Z"
   },
   {
    "duration": 7,
    "start_time": "2021-11-09T14:02:01.737Z"
   },
   {
    "duration": 716,
    "start_time": "2021-11-09T14:03:11.029Z"
   },
   {
    "duration": 600,
    "start_time": "2021-11-09T14:03:27.517Z"
   },
   {
    "duration": 4,
    "start_time": "2021-11-09T14:03:59.331Z"
   },
   {
    "duration": 771,
    "start_time": "2021-11-09T14:04:07.007Z"
   },
   {
    "duration": 226,
    "start_time": "2021-11-09T14:05:18.669Z"
   },
   {
    "duration": 4,
    "start_time": "2021-11-09T14:05:28.512Z"
   },
   {
    "duration": 508,
    "start_time": "2021-11-09T14:05:32.017Z"
   },
   {
    "duration": 7,
    "start_time": "2021-11-09T14:05:39.995Z"
   },
   {
    "duration": 4,
    "start_time": "2021-11-09T14:06:55.256Z"
   },
   {
    "duration": 526,
    "start_time": "2021-11-09T14:06:58.738Z"
   },
   {
    "duration": 3,
    "start_time": "2021-11-09T14:08:46.890Z"
   },
   {
    "duration": 10,
    "start_time": "2021-11-09T14:08:51.030Z"
   },
   {
    "duration": 11,
    "start_time": "2021-11-09T14:08:56.512Z"
   },
   {
    "duration": 7,
    "start_time": "2021-11-09T14:08:59.169Z"
   },
   {
    "duration": 4,
    "start_time": "2021-11-09T14:11:33.767Z"
   },
   {
    "duration": 10,
    "start_time": "2021-11-09T14:11:38.634Z"
   },
   {
    "duration": 12,
    "start_time": "2021-11-09T14:14:47.351Z"
   },
   {
    "duration": 11,
    "start_time": "2021-11-09T14:14:52.536Z"
   },
   {
    "duration": 12,
    "start_time": "2021-11-09T14:21:42.249Z"
   },
   {
    "duration": 12,
    "start_time": "2021-11-09T14:22:29.152Z"
   },
   {
    "duration": 600,
    "start_time": "2021-11-09T14:25:26.272Z"
   },
   {
    "duration": 611,
    "start_time": "2021-11-09T14:26:30.778Z"
   },
   {
    "duration": 707,
    "start_time": "2021-11-09T14:26:41.130Z"
   },
   {
    "duration": 171,
    "start_time": "2021-11-09T14:26:41.839Z"
   },
   {
    "duration": 20,
    "start_time": "2021-11-09T14:26:42.013Z"
   },
   {
    "duration": 35,
    "start_time": "2021-11-09T14:26:42.036Z"
   },
   {
    "duration": 6,
    "start_time": "2021-11-09T14:26:42.073Z"
   },
   {
    "duration": 24,
    "start_time": "2021-11-09T14:26:42.081Z"
   },
   {
    "duration": 14,
    "start_time": "2021-11-09T14:26:42.107Z"
   },
   {
    "duration": 48,
    "start_time": "2021-11-09T14:26:42.124Z"
   },
   {
    "duration": 77,
    "start_time": "2021-11-09T14:26:42.174Z"
   },
   {
    "duration": 25,
    "start_time": "2021-11-09T14:26:42.264Z"
   },
   {
    "duration": 79,
    "start_time": "2021-11-09T14:26:42.290Z"
   },
   {
    "duration": 80,
    "start_time": "2021-11-09T14:26:42.370Z"
   },
   {
    "duration": 65,
    "start_time": "2021-11-09T14:26:42.452Z"
   },
   {
    "duration": 66,
    "start_time": "2021-11-09T14:26:42.519Z"
   },
   {
    "duration": 3,
    "start_time": "2021-11-09T14:26:42.587Z"
   },
   {
    "duration": 333,
    "start_time": "2021-11-09T14:26:42.591Z"
   },
   {
    "duration": -488,
    "start_time": "2021-11-09T14:26:43.415Z"
   },
   {
    "duration": -496,
    "start_time": "2021-11-09T14:26:43.424Z"
   },
   {
    "duration": -502,
    "start_time": "2021-11-09T14:26:43.431Z"
   },
   {
    "duration": -507,
    "start_time": "2021-11-09T14:26:43.437Z"
   },
   {
    "duration": -513,
    "start_time": "2021-11-09T14:26:43.444Z"
   },
   {
    "duration": -519,
    "start_time": "2021-11-09T14:26:43.451Z"
   },
   {
    "duration": -525,
    "start_time": "2021-11-09T14:26:43.458Z"
   },
   {
    "duration": -530,
    "start_time": "2021-11-09T14:26:43.464Z"
   },
   {
    "duration": -536,
    "start_time": "2021-11-09T14:26:43.471Z"
   },
   {
    "duration": -541,
    "start_time": "2021-11-09T14:26:43.477Z"
   },
   {
    "duration": -547,
    "start_time": "2021-11-09T14:26:43.484Z"
   },
   {
    "duration": -552,
    "start_time": "2021-11-09T14:26:43.490Z"
   },
   {
    "duration": -586,
    "start_time": "2021-11-09T14:26:43.524Z"
   },
   {
    "duration": -596,
    "start_time": "2021-11-09T14:26:43.535Z"
   },
   {
    "duration": -604,
    "start_time": "2021-11-09T14:26:43.545Z"
   },
   {
    "duration": -622,
    "start_time": "2021-11-09T14:26:43.564Z"
   },
   {
    "duration": -633,
    "start_time": "2021-11-09T14:26:43.576Z"
   },
   {
    "duration": -639,
    "start_time": "2021-11-09T14:26:43.583Z"
   },
   {
    "duration": -647,
    "start_time": "2021-11-09T14:26:43.591Z"
   },
   {
    "duration": -652,
    "start_time": "2021-11-09T14:26:43.597Z"
   },
   {
    "duration": -660,
    "start_time": "2021-11-09T14:26:43.606Z"
   },
   {
    "duration": -666,
    "start_time": "2021-11-09T14:26:43.613Z"
   },
   {
    "duration": -692,
    "start_time": "2021-11-09T14:26:43.640Z"
   },
   {
    "duration": 238,
    "start_time": "2021-11-09T14:27:06.952Z"
   },
   {
    "duration": 3,
    "start_time": "2021-11-09T14:27:24.371Z"
   },
   {
    "duration": 281,
    "start_time": "2021-11-09T14:27:28.591Z"
   },
   {
    "duration": 6,
    "start_time": "2021-11-09T14:28:01.527Z"
   },
   {
    "duration": 251,
    "start_time": "2021-11-09T14:28:06.736Z"
   },
   {
    "duration": 645,
    "start_time": "2021-11-09T14:29:34.645Z"
   },
   {
    "duration": 151,
    "start_time": "2021-11-09T14:29:35.292Z"
   },
   {
    "duration": 21,
    "start_time": "2021-11-09T14:29:35.446Z"
   },
   {
    "duration": 25,
    "start_time": "2021-11-09T14:29:35.469Z"
   },
   {
    "duration": 8,
    "start_time": "2021-11-09T14:29:35.496Z"
   },
   {
    "duration": 26,
    "start_time": "2021-11-09T14:29:35.506Z"
   },
   {
    "duration": 4,
    "start_time": "2021-11-09T14:29:35.534Z"
   },
   {
    "duration": 45,
    "start_time": "2021-11-09T14:29:35.541Z"
   },
   {
    "duration": 81,
    "start_time": "2021-11-09T14:29:35.588Z"
   },
   {
    "duration": 24,
    "start_time": "2021-11-09T14:29:35.671Z"
   },
   {
    "duration": 75,
    "start_time": "2021-11-09T14:29:35.697Z"
   },
   {
    "duration": 75,
    "start_time": "2021-11-09T14:29:35.774Z"
   },
   {
    "duration": 63,
    "start_time": "2021-11-09T14:29:35.851Z"
   },
   {
    "duration": 66,
    "start_time": "2021-11-09T14:29:35.915Z"
   },
   {
    "duration": 3,
    "start_time": "2021-11-09T14:29:35.983Z"
   },
   {
    "duration": 294,
    "start_time": "2021-11-09T14:29:35.988Z"
   },
   {
    "duration": -694,
    "start_time": "2021-11-09T14:29:36.979Z"
   },
   {
    "duration": -724,
    "start_time": "2021-11-09T14:29:37.010Z"
   },
   {
    "duration": -756,
    "start_time": "2021-11-09T14:29:37.043Z"
   },
   {
    "duration": -804,
    "start_time": "2021-11-09T14:29:37.092Z"
   },
   {
    "duration": -816,
    "start_time": "2021-11-09T14:29:37.105Z"
   },
   {
    "duration": -840,
    "start_time": "2021-11-09T14:29:37.130Z"
   },
   {
    "duration": -848,
    "start_time": "2021-11-09T14:29:37.139Z"
   },
   {
    "duration": -855,
    "start_time": "2021-11-09T14:29:37.146Z"
   },
   {
    "duration": -869,
    "start_time": "2021-11-09T14:29:37.161Z"
   },
   {
    "duration": -882,
    "start_time": "2021-11-09T14:29:37.175Z"
   },
   {
    "duration": -908,
    "start_time": "2021-11-09T14:29:37.202Z"
   },
   {
    "duration": -920,
    "start_time": "2021-11-09T14:29:37.215Z"
   },
   {
    "duration": -927,
    "start_time": "2021-11-09T14:29:37.223Z"
   },
   {
    "duration": -932,
    "start_time": "2021-11-09T14:29:37.229Z"
   },
   {
    "duration": -937,
    "start_time": "2021-11-09T14:29:37.235Z"
   },
   {
    "duration": -943,
    "start_time": "2021-11-09T14:29:37.242Z"
   },
   {
    "duration": -948,
    "start_time": "2021-11-09T14:29:37.248Z"
   },
   {
    "duration": -954,
    "start_time": "2021-11-09T14:29:37.254Z"
   },
   {
    "duration": -959,
    "start_time": "2021-11-09T14:29:37.260Z"
   },
   {
    "duration": -964,
    "start_time": "2021-11-09T14:29:37.266Z"
   },
   {
    "duration": -970,
    "start_time": "2021-11-09T14:29:37.273Z"
   },
   {
    "duration": -976,
    "start_time": "2021-11-09T14:29:37.280Z"
   },
   {
    "duration": -982,
    "start_time": "2021-11-09T14:29:37.287Z"
   },
   {
    "duration": 3,
    "start_time": "2021-11-09T14:30:40.862Z"
   },
   {
    "duration": 266,
    "start_time": "2021-11-09T14:30:50.216Z"
   },
   {
    "duration": 4,
    "start_time": "2021-11-09T14:31:07.445Z"
   },
   {
    "duration": 301,
    "start_time": "2021-11-09T14:31:11.541Z"
   },
   {
    "duration": 85,
    "start_time": "2021-11-09T14:31:42.601Z"
   },
   {
    "duration": 77,
    "start_time": "2021-11-09T14:31:53.100Z"
   },
   {
    "duration": 3,
    "start_time": "2021-11-09T14:31:58.639Z"
   },
   {
    "duration": 260,
    "start_time": "2021-11-09T14:32:02.567Z"
   },
   {
    "duration": 4,
    "start_time": "2021-11-09T14:32:30.978Z"
   },
   {
    "duration": 263,
    "start_time": "2021-11-09T14:32:34.132Z"
   },
   {
    "duration": 247,
    "start_time": "2021-11-09T14:32:51.973Z"
   },
   {
    "duration": 263,
    "start_time": "2021-11-09T14:32:56.227Z"
   },
   {
    "duration": 237,
    "start_time": "2021-11-09T14:33:10.773Z"
   },
   {
    "duration": 303,
    "start_time": "2021-11-09T14:33:15.437Z"
   },
   {
    "duration": 3,
    "start_time": "2021-11-09T14:33:47.847Z"
   },
   {
    "duration": 255,
    "start_time": "2021-11-09T14:33:50.790Z"
   },
   {
    "duration": 257,
    "start_time": "2021-11-09T14:34:15.904Z"
   },
   {
    "duration": 619,
    "start_time": "2021-11-09T14:34:37.589Z"
   },
   {
    "duration": 155,
    "start_time": "2021-11-09T14:34:38.210Z"
   },
   {
    "duration": 18,
    "start_time": "2021-11-09T14:34:38.368Z"
   },
   {
    "duration": 33,
    "start_time": "2021-11-09T14:34:38.388Z"
   },
   {
    "duration": 5,
    "start_time": "2021-11-09T14:34:38.423Z"
   },
   {
    "duration": 40,
    "start_time": "2021-11-09T14:34:38.429Z"
   },
   {
    "duration": 5,
    "start_time": "2021-11-09T14:34:38.471Z"
   },
   {
    "duration": 24,
    "start_time": "2021-11-09T14:34:38.479Z"
   },
   {
    "duration": 94,
    "start_time": "2021-11-09T14:34:38.505Z"
   },
   {
    "duration": 26,
    "start_time": "2021-11-09T14:34:38.601Z"
   },
   {
    "duration": 79,
    "start_time": "2021-11-09T14:34:38.630Z"
   },
   {
    "duration": 87,
    "start_time": "2021-11-09T14:34:38.711Z"
   },
   {
    "duration": 71,
    "start_time": "2021-11-09T14:34:38.800Z"
   },
   {
    "duration": 51,
    "start_time": "2021-11-09T14:34:38.873Z"
   },
   {
    "duration": 3,
    "start_time": "2021-11-09T14:34:38.926Z"
   },
   {
    "duration": 349,
    "start_time": "2021-11-09T14:34:38.931Z"
   },
   {
    "duration": -382,
    "start_time": "2021-11-09T14:34:39.664Z"
   },
   {
    "duration": -391,
    "start_time": "2021-11-09T14:34:39.674Z"
   },
   {
    "duration": -395,
    "start_time": "2021-11-09T14:34:39.680Z"
   },
   {
    "duration": -401,
    "start_time": "2021-11-09T14:34:39.687Z"
   },
   {
    "duration": -406,
    "start_time": "2021-11-09T14:34:39.693Z"
   },
   {
    "duration": -411,
    "start_time": "2021-11-09T14:34:39.699Z"
   },
   {
    "duration": -416,
    "start_time": "2021-11-09T14:34:39.705Z"
   },
   {
    "duration": -421,
    "start_time": "2021-11-09T14:34:39.711Z"
   },
   {
    "duration": -425,
    "start_time": "2021-11-09T14:34:39.716Z"
   },
   {
    "duration": -430,
    "start_time": "2021-11-09T14:34:39.722Z"
   },
   {
    "duration": -435,
    "start_time": "2021-11-09T14:34:39.728Z"
   },
   {
    "duration": -441,
    "start_time": "2021-11-09T14:34:39.735Z"
   },
   {
    "duration": -445,
    "start_time": "2021-11-09T14:34:39.740Z"
   },
   {
    "duration": -463,
    "start_time": "2021-11-09T14:34:39.759Z"
   },
   {
    "duration": -468,
    "start_time": "2021-11-09T14:34:39.765Z"
   },
   {
    "duration": -474,
    "start_time": "2021-11-09T14:34:39.772Z"
   },
   {
    "duration": -478,
    "start_time": "2021-11-09T14:34:39.777Z"
   },
   {
    "duration": -484,
    "start_time": "2021-11-09T14:34:39.784Z"
   },
   {
    "duration": -488,
    "start_time": "2021-11-09T14:34:39.789Z"
   },
   {
    "duration": -493,
    "start_time": "2021-11-09T14:34:39.795Z"
   },
   {
    "duration": -498,
    "start_time": "2021-11-09T14:34:39.801Z"
   },
   {
    "duration": -504,
    "start_time": "2021-11-09T14:34:39.808Z"
   },
   {
    "duration": -508,
    "start_time": "2021-11-09T14:34:39.813Z"
   },
   {
    "duration": 4,
    "start_time": "2021-11-09T14:38:46.551Z"
   },
   {
    "duration": 11,
    "start_time": "2021-11-09T14:38:50.674Z"
   },
   {
    "duration": 7,
    "start_time": "2021-11-09T14:38:55.986Z"
   },
   {
    "duration": 98,
    "start_time": "2021-11-09T14:39:27.341Z"
   },
   {
    "duration": 81,
    "start_time": "2021-11-09T14:39:33.747Z"
   },
   {
    "duration": 4,
    "start_time": "2021-11-09T14:39:39.621Z"
   },
   {
    "duration": 15,
    "start_time": "2021-11-09T14:39:43.410Z"
   },
   {
    "duration": 11,
    "start_time": "2021-11-09T14:39:54.584Z"
   },
   {
    "duration": 7,
    "start_time": "2021-11-09T14:39:57.400Z"
   },
   {
    "duration": 645,
    "start_time": "2021-11-09T14:44:13.146Z"
   },
   {
    "duration": 624,
    "start_time": "2021-11-09T14:44:19.465Z"
   },
   {
    "duration": 9,
    "start_time": "2021-11-09T14:44:43.757Z"
   },
   {
    "duration": 9,
    "start_time": "2021-11-09T14:50:00.775Z"
   },
   {
    "duration": 10,
    "start_time": "2021-11-09T14:50:20.612Z"
   },
   {
    "duration": 8,
    "start_time": "2021-11-09T14:50:37.806Z"
   },
   {
    "duration": 249,
    "start_time": "2021-11-09T14:56:15.049Z"
   },
   {
    "duration": 584,
    "start_time": "2021-11-09T14:56:25.600Z"
   },
   {
    "duration": 151,
    "start_time": "2021-11-09T14:56:26.186Z"
   },
   {
    "duration": 17,
    "start_time": "2021-11-09T14:56:26.339Z"
   },
   {
    "duration": 29,
    "start_time": "2021-11-09T14:56:26.364Z"
   },
   {
    "duration": 4,
    "start_time": "2021-11-09T14:56:26.395Z"
   },
   {
    "duration": 28,
    "start_time": "2021-11-09T14:56:26.401Z"
   },
   {
    "duration": 3,
    "start_time": "2021-11-09T14:56:26.431Z"
   },
   {
    "duration": 44,
    "start_time": "2021-11-09T14:56:26.437Z"
   },
   {
    "duration": 85,
    "start_time": "2021-11-09T14:56:26.483Z"
   },
   {
    "duration": 24,
    "start_time": "2021-11-09T14:56:26.570Z"
   },
   {
    "duration": 76,
    "start_time": "2021-11-09T14:56:26.596Z"
   },
   {
    "duration": 76,
    "start_time": "2021-11-09T14:56:26.674Z"
   },
   {
    "duration": 64,
    "start_time": "2021-11-09T14:56:26.752Z"
   },
   {
    "duration": 68,
    "start_time": "2021-11-09T14:56:26.817Z"
   },
   {
    "duration": 3,
    "start_time": "2021-11-09T14:56:26.887Z"
   },
   {
    "duration": 304,
    "start_time": "2021-11-09T14:56:26.891Z"
   },
   {
    "duration": -485,
    "start_time": "2021-11-09T14:56:27.682Z"
   },
   {
    "duration": -492,
    "start_time": "2021-11-09T14:56:27.691Z"
   },
   {
    "duration": -498,
    "start_time": "2021-11-09T14:56:27.698Z"
   },
   {
    "duration": -506,
    "start_time": "2021-11-09T14:56:27.707Z"
   },
   {
    "duration": -512,
    "start_time": "2021-11-09T14:56:27.714Z"
   },
   {
    "duration": -517,
    "start_time": "2021-11-09T14:56:27.720Z"
   },
   {
    "duration": -522,
    "start_time": "2021-11-09T14:56:27.726Z"
   },
   {
    "duration": -530,
    "start_time": "2021-11-09T14:56:27.735Z"
   },
   {
    "duration": -535,
    "start_time": "2021-11-09T14:56:27.741Z"
   },
   {
    "duration": -543,
    "start_time": "2021-11-09T14:56:27.750Z"
   },
   {
    "duration": -551,
    "start_time": "2021-11-09T14:56:27.759Z"
   },
   {
    "duration": -572,
    "start_time": "2021-11-09T14:56:27.781Z"
   },
   {
    "duration": -578,
    "start_time": "2021-11-09T14:56:27.788Z"
   },
   {
    "duration": -585,
    "start_time": "2021-11-09T14:56:27.796Z"
   },
   {
    "duration": -590,
    "start_time": "2021-11-09T14:56:27.802Z"
   },
   {
    "duration": -597,
    "start_time": "2021-11-09T14:56:27.810Z"
   },
   {
    "duration": -603,
    "start_time": "2021-11-09T14:56:27.817Z"
   },
   {
    "duration": -610,
    "start_time": "2021-11-09T14:56:27.825Z"
   },
   {
    "duration": -615,
    "start_time": "2021-11-09T14:56:27.831Z"
   },
   {
    "duration": -621,
    "start_time": "2021-11-09T14:56:27.838Z"
   },
   {
    "duration": -627,
    "start_time": "2021-11-09T14:56:27.845Z"
   },
   {
    "duration": -632,
    "start_time": "2021-11-09T14:56:27.851Z"
   },
   {
    "duration": -636,
    "start_time": "2021-11-09T14:56:27.856Z"
   },
   {
    "duration": 239,
    "start_time": "2021-11-09T14:56:33.104Z"
   },
   {
    "duration": 13,
    "start_time": "2021-11-09T14:57:09.534Z"
   },
   {
    "duration": 11,
    "start_time": "2021-11-09T14:57:13.021Z"
   },
   {
    "duration": 237,
    "start_time": "2021-11-09T14:57:16.716Z"
   },
   {
    "duration": 5,
    "start_time": "2021-11-09T14:57:26.688Z"
   },
   {
    "duration": 23,
    "start_time": "2021-11-09T14:57:30.206Z"
   },
   {
    "duration": 15,
    "start_time": "2021-11-09T14:57:33.231Z"
   },
   {
    "duration": 20,
    "start_time": "2021-11-09T14:57:36.826Z"
   },
   {
    "duration": 15,
    "start_time": "2021-11-09T14:57:43.233Z"
   },
   {
    "duration": 642,
    "start_time": "2021-11-09T15:05:15.567Z"
   },
   {
    "duration": 155,
    "start_time": "2021-11-09T15:05:16.211Z"
   },
   {
    "duration": 18,
    "start_time": "2021-11-09T15:05:16.369Z"
   },
   {
    "duration": 31,
    "start_time": "2021-11-09T15:05:16.389Z"
   },
   {
    "duration": 5,
    "start_time": "2021-11-09T15:05:16.422Z"
   },
   {
    "duration": 41,
    "start_time": "2021-11-09T15:05:16.428Z"
   },
   {
    "duration": 8,
    "start_time": "2021-11-09T15:05:16.471Z"
   },
   {
    "duration": 31,
    "start_time": "2021-11-09T15:05:16.482Z"
   },
   {
    "duration": 82,
    "start_time": "2021-11-09T15:05:16.515Z"
   },
   {
    "duration": 26,
    "start_time": "2021-11-09T15:05:16.599Z"
   },
   {
    "duration": 76,
    "start_time": "2021-11-09T15:05:16.627Z"
   },
   {
    "duration": 83,
    "start_time": "2021-11-09T15:05:16.705Z"
   },
   {
    "duration": 55,
    "start_time": "2021-11-09T15:05:16.789Z"
   },
   {
    "duration": 58,
    "start_time": "2021-11-09T15:05:16.846Z"
   },
   {
    "duration": 3,
    "start_time": "2021-11-09T15:05:16.906Z"
   },
   {
    "duration": 380,
    "start_time": "2021-11-09T15:05:16.911Z"
   },
   {
    "duration": -469,
    "start_time": "2021-11-09T15:05:17.762Z"
   },
   {
    "duration": -488,
    "start_time": "2021-11-09T15:05:17.782Z"
   },
   {
    "duration": -546,
    "start_time": "2021-11-09T15:05:17.841Z"
   },
   {
    "duration": -566,
    "start_time": "2021-11-09T15:05:17.862Z"
   },
   {
    "duration": -580,
    "start_time": "2021-11-09T15:05:17.877Z"
   },
   {
    "duration": -608,
    "start_time": "2021-11-09T15:05:17.906Z"
   },
   {
    "duration": -641,
    "start_time": "2021-11-09T15:05:17.940Z"
   },
   {
    "duration": -664,
    "start_time": "2021-11-09T15:05:17.964Z"
   },
   {
    "duration": -693,
    "start_time": "2021-11-09T15:05:17.994Z"
   },
   {
    "duration": -703,
    "start_time": "2021-11-09T15:05:18.005Z"
   },
   {
    "duration": -735,
    "start_time": "2021-11-09T15:05:18.039Z"
   },
   {
    "duration": -756,
    "start_time": "2021-11-09T15:05:18.061Z"
   },
   {
    "duration": -768,
    "start_time": "2021-11-09T15:05:18.074Z"
   },
   {
    "duration": -776,
    "start_time": "2021-11-09T15:05:18.083Z"
   },
   {
    "duration": -783,
    "start_time": "2021-11-09T15:05:18.091Z"
   },
   {
    "duration": -789,
    "start_time": "2021-11-09T15:05:18.098Z"
   },
   {
    "duration": -794,
    "start_time": "2021-11-09T15:05:18.104Z"
   },
   {
    "duration": -800,
    "start_time": "2021-11-09T15:05:18.111Z"
   },
   {
    "duration": -806,
    "start_time": "2021-11-09T15:05:18.118Z"
   },
   {
    "duration": -812,
    "start_time": "2021-11-09T15:05:18.124Z"
   },
   {
    "duration": -817,
    "start_time": "2021-11-09T15:05:18.130Z"
   },
   {
    "duration": -821,
    "start_time": "2021-11-09T15:05:18.135Z"
   },
   {
    "duration": -827,
    "start_time": "2021-11-09T15:05:18.142Z"
   },
   {
    "duration": 6,
    "start_time": "2021-11-09T15:05:41.312Z"
   },
   {
    "duration": 244,
    "start_time": "2021-11-09T15:05:45.195Z"
   },
   {
    "duration": 3,
    "start_time": "2021-11-09T15:06:49.864Z"
   },
   {
    "duration": 242,
    "start_time": "2021-11-09T15:06:53.914Z"
   },
   {
    "duration": 13,
    "start_time": "2021-11-09T15:07:13.595Z"
   },
   {
    "duration": 13,
    "start_time": "2021-11-09T15:07:17.212Z"
   },
   {
    "duration": 248,
    "start_time": "2021-11-09T15:07:21.788Z"
   },
   {
    "duration": 3,
    "start_time": "2021-11-09T15:07:25.444Z"
   },
   {
    "duration": 19,
    "start_time": "2021-11-09T15:07:28.322Z"
   },
   {
    "duration": 4,
    "start_time": "2021-11-09T15:07:35.373Z"
   },
   {
    "duration": 240,
    "start_time": "2021-11-09T15:07:40.218Z"
   },
   {
    "duration": 3,
    "start_time": "2021-11-09T15:08:12.371Z"
   },
   {
    "duration": 482,
    "start_time": "2021-11-09T15:08:17.565Z"
   },
   {
    "duration": 3,
    "start_time": "2021-11-09T15:08:41.496Z"
   },
   {
    "duration": 10,
    "start_time": "2021-11-09T15:08:44.462Z"
   },
   {
    "duration": 10,
    "start_time": "2021-11-09T15:09:08.280Z"
   },
   {
    "duration": 4,
    "start_time": "2021-11-09T15:09:11.855Z"
   },
   {
    "duration": 17,
    "start_time": "2021-11-09T15:09:15.195Z"
   },
   {
    "duration": 9,
    "start_time": "2021-11-09T15:09:18.779Z"
   },
   {
    "duration": 14,
    "start_time": "2021-11-09T15:09:24.859Z"
   },
   {
    "duration": 10,
    "start_time": "2021-11-09T15:09:28.841Z"
   },
   {
    "duration": 4,
    "start_time": "2021-11-09T15:09:31.623Z"
   },
   {
    "duration": 22,
    "start_time": "2021-11-09T15:09:34.386Z"
   },
   {
    "duration": 15,
    "start_time": "2021-11-09T15:09:36.953Z"
   },
   {
    "duration": 22,
    "start_time": "2021-11-09T15:09:39.516Z"
   },
   {
    "duration": 15,
    "start_time": "2021-11-09T15:09:42.109Z"
   },
   {
    "duration": 827,
    "start_time": "2021-11-10T12:14:56.891Z"
   },
   {
    "duration": 195,
    "start_time": "2021-11-10T12:14:57.720Z"
   },
   {
    "duration": 29,
    "start_time": "2021-11-10T12:14:57.918Z"
   },
   {
    "duration": 33,
    "start_time": "2021-11-10T12:14:57.950Z"
   },
   {
    "duration": 6,
    "start_time": "2021-11-10T12:14:57.985Z"
   },
   {
    "duration": 60,
    "start_time": "2021-11-10T12:14:57.993Z"
   },
   {
    "duration": 5,
    "start_time": "2021-11-10T12:14:58.056Z"
   },
   {
    "duration": 35,
    "start_time": "2021-11-10T12:14:58.063Z"
   },
   {
    "duration": 110,
    "start_time": "2021-11-10T12:14:58.103Z"
   },
   {
    "duration": 40,
    "start_time": "2021-11-10T12:14:58.216Z"
   },
   {
    "duration": 106,
    "start_time": "2021-11-10T12:14:58.258Z"
   },
   {
    "duration": 113,
    "start_time": "2021-11-10T12:14:58.366Z"
   },
   {
    "duration": 90,
    "start_time": "2021-11-10T12:14:58.482Z"
   },
   {
    "duration": 85,
    "start_time": "2021-11-10T12:14:58.574Z"
   },
   {
    "duration": 4,
    "start_time": "2021-11-10T12:14:58.661Z"
   },
   {
    "duration": 18,
    "start_time": "2021-11-10T12:14:58.667Z"
   },
   {
    "duration": 14,
    "start_time": "2021-11-10T12:14:58.687Z"
   },
   {
    "duration": 15,
    "start_time": "2021-11-10T12:14:58.730Z"
   },
   {
    "duration": 15,
    "start_time": "2021-11-10T12:14:58.747Z"
   },
   {
    "duration": 5,
    "start_time": "2021-11-10T12:14:58.764Z"
   },
   {
    "duration": 72,
    "start_time": "2021-11-10T12:14:58.771Z"
   },
   {
    "duration": 20,
    "start_time": "2021-11-10T12:14:58.846Z"
   },
   {
    "duration": 21,
    "start_time": "2021-11-10T12:14:58.868Z"
   },
   {
    "duration": 52,
    "start_time": "2021-11-10T12:14:58.891Z"
   },
   {
    "duration": 23,
    "start_time": "2021-11-10T12:14:58.945Z"
   },
   {
    "duration": 21,
    "start_time": "2021-11-10T12:14:58.971Z"
   },
   {
    "duration": 13,
    "start_time": "2021-11-10T12:14:59.031Z"
   },
   {
    "duration": 3,
    "start_time": "2021-11-10T12:14:59.047Z"
   },
   {
    "duration": 22,
    "start_time": "2021-11-10T12:14:59.053Z"
   },
   {
    "duration": 12,
    "start_time": "2021-11-10T12:14:59.078Z"
   },
   {
    "duration": 38,
    "start_time": "2021-11-10T12:14:59.093Z"
   },
   {
    "duration": 36,
    "start_time": "2021-11-10T12:14:59.134Z"
   },
   {
    "duration": 18,
    "start_time": "2021-11-10T12:14:59.173Z"
   },
   {
    "duration": 56,
    "start_time": "2021-11-10T12:14:59.193Z"
   },
   {
    "duration": 25,
    "start_time": "2021-11-10T12:14:59.252Z"
   },
   {
    "duration": 10,
    "start_time": "2021-11-10T12:14:59.280Z"
   },
   {
    "duration": 39,
    "start_time": "2021-11-10T12:14:59.293Z"
   },
   {
    "duration": 15,
    "start_time": "2021-11-10T12:14:59.335Z"
   },
   {
    "duration": 7,
    "start_time": "2021-11-10T12:14:59.353Z"
   }
  ],
  "colab": {
   "collapsed_sections": [
    "E0vqbgi9ay0H",
    "VUC88oWjTJw2"
   ],
   "name": "yandex_music_project_2021.2.ipynb",
   "provenance": []
  },
  "kernelspec": {
   "display_name": "Python 3 (ipykernel)",
   "language": "python",
   "name": "python3"
  },
  "language_info": {
   "codemirror_mode": {
    "name": "ipython",
    "version": 3
   },
   "file_extension": ".py",
   "mimetype": "text/x-python",
   "name": "python",
   "nbconvert_exporter": "python",
   "pygments_lexer": "ipython3",
   "version": "3.10.9"
  },
  "toc": {
   "base_numbering": 1,
   "nav_menu": {},
   "number_sections": true,
   "sideBar": true,
   "skip_h1_title": true,
   "title_cell": "Table of Contents",
   "title_sidebar": "Contents",
   "toc_cell": false,
   "toc_position": {},
   "toc_section_display": true,
   "toc_window_display": true
  }
 },
 "nbformat": 4,
 "nbformat_minor": 1
}
